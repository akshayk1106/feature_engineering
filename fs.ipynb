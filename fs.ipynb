{
 "cells": [
  {
   "cell_type": "markdown",
   "id": "68df24aa",
   "metadata": {},
   "source": [
    "# Types of scaling\n",
    "\n",
    "standard scalar: u=0, sd=1\n",
    "\n",
    "min_max_scalar: [0 to 1], when you know min max of data (eg. CNN image pixels)\n",
    "\n",
    "mean_normalization: u=0 [-1 to 1]\n",
    "\n",
    "max_absolute scalar: sparse dataset\n",
    "\n",
    "robust scalar: outliers in data"
   ]
  },
  {
   "cell_type": "markdown",
   "id": "ea50bfec",
   "metadata": {},
   "source": [
    "# Why scaling is necessary?"
   ]
  },
  {
   "cell_type": "code",
   "execution_count": null,
   "id": "fad5a977",
   "metadata": {},
   "outputs": [],
   "source": []
  },
  {
   "cell_type": "code",
   "execution_count": null,
   "id": "1f1db897",
   "metadata": {},
   "outputs": [],
   "source": []
  },
  {
   "cell_type": "code",
   "execution_count": null,
   "id": "1d2071e9",
   "metadata": {},
   "outputs": [],
   "source": []
  }
 ],
 "metadata": {
  "kernelspec": {
   "display_name": "Python 3",
   "language": "python",
   "name": "python3"
  },
  "language_info": {
   "codemirror_mode": {
    "name": "ipython",
    "version": 3
   },
   "file_extension": ".py",
   "mimetype": "text/x-python",
   "name": "python",
   "nbconvert_exporter": "python",
   "pygments_lexer": "ipython3",
   "version": "3.8.8"
  }
 },
 "nbformat": 4,
 "nbformat_minor": 5
}
