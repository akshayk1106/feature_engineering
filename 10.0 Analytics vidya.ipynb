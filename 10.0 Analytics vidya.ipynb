{
 "cells": [
  {
   "cell_type": "code",
   "execution_count": 4,
   "id": "1e740439",
   "metadata": {},
   "outputs": [],
   "source": [
    "import pandas as pd\n",
    "import numpy as np\n",
    "import matplotlib.pyplot as plt\n",
    "import seaborn as sns\n",
    "import warnings\n",
    "warnings.filterwarnings(\"ignore\")"
   ]
  },
  {
   "cell_type": "markdown",
   "id": "3ddd9fc0",
   "metadata": {},
   "source": [
    "# 1. BINNING"
   ]
  },
  {
   "cell_type": "code",
   "execution_count": 5,
   "id": "ec8fac4a",
   "metadata": {},
   "outputs": [
    {
     "data": {
      "text/html": [
       "<div>\n",
       "<style scoped>\n",
       "    .dataframe tbody tr th:only-of-type {\n",
       "        vertical-align: middle;\n",
       "    }\n",
       "\n",
       "    .dataframe tbody tr th {\n",
       "        vertical-align: top;\n",
       "    }\n",
       "\n",
       "    .dataframe thead th {\n",
       "        text-align: right;\n",
       "    }\n",
       "</style>\n",
       "<table border=\"1\" class=\"dataframe\">\n",
       "  <thead>\n",
       "    <tr style=\"text-align: right;\">\n",
       "      <th></th>\n",
       "      <th>id</th>\n",
       "      <th>gender</th>\n",
       "      <th>age</th>\n",
       "      <th>hypertension</th>\n",
       "      <th>heart_disease</th>\n",
       "      <th>ever_married</th>\n",
       "      <th>work_type</th>\n",
       "      <th>Residence_type</th>\n",
       "      <th>avg_glucose_level</th>\n",
       "      <th>bmi</th>\n",
       "      <th>smoking_status</th>\n",
       "      <th>stroke</th>\n",
       "    </tr>\n",
       "  </thead>\n",
       "  <tbody>\n",
       "    <tr>\n",
       "      <th>0</th>\n",
       "      <td>30669</td>\n",
       "      <td>Male</td>\n",
       "      <td>3.0</td>\n",
       "      <td>0</td>\n",
       "      <td>0</td>\n",
       "      <td>No</td>\n",
       "      <td>children</td>\n",
       "      <td>Rural</td>\n",
       "      <td>95.12</td>\n",
       "      <td>18.0</td>\n",
       "      <td>NaN</td>\n",
       "      <td>0</td>\n",
       "    </tr>\n",
       "    <tr>\n",
       "      <th>1</th>\n",
       "      <td>30468</td>\n",
       "      <td>Male</td>\n",
       "      <td>58.0</td>\n",
       "      <td>1</td>\n",
       "      <td>0</td>\n",
       "      <td>Yes</td>\n",
       "      <td>Private</td>\n",
       "      <td>Urban</td>\n",
       "      <td>87.96</td>\n",
       "      <td>39.2</td>\n",
       "      <td>never smoked</td>\n",
       "      <td>0</td>\n",
       "    </tr>\n",
       "    <tr>\n",
       "      <th>2</th>\n",
       "      <td>16523</td>\n",
       "      <td>Female</td>\n",
       "      <td>8.0</td>\n",
       "      <td>0</td>\n",
       "      <td>0</td>\n",
       "      <td>No</td>\n",
       "      <td>Private</td>\n",
       "      <td>Urban</td>\n",
       "      <td>110.89</td>\n",
       "      <td>17.6</td>\n",
       "      <td>NaN</td>\n",
       "      <td>0</td>\n",
       "    </tr>\n",
       "    <tr>\n",
       "      <th>3</th>\n",
       "      <td>56543</td>\n",
       "      <td>Female</td>\n",
       "      <td>70.0</td>\n",
       "      <td>0</td>\n",
       "      <td>0</td>\n",
       "      <td>Yes</td>\n",
       "      <td>Private</td>\n",
       "      <td>Rural</td>\n",
       "      <td>69.04</td>\n",
       "      <td>35.9</td>\n",
       "      <td>formerly smoked</td>\n",
       "      <td>0</td>\n",
       "    </tr>\n",
       "    <tr>\n",
       "      <th>4</th>\n",
       "      <td>46136</td>\n",
       "      <td>Male</td>\n",
       "      <td>14.0</td>\n",
       "      <td>0</td>\n",
       "      <td>0</td>\n",
       "      <td>No</td>\n",
       "      <td>Never_worked</td>\n",
       "      <td>Rural</td>\n",
       "      <td>161.28</td>\n",
       "      <td>19.1</td>\n",
       "      <td>NaN</td>\n",
       "      <td>0</td>\n",
       "    </tr>\n",
       "  </tbody>\n",
       "</table>\n",
       "</div>"
      ],
      "text/plain": [
       "      id  gender   age  hypertension  heart_disease ever_married  \\\n",
       "0  30669    Male   3.0             0              0           No   \n",
       "1  30468    Male  58.0             1              0          Yes   \n",
       "2  16523  Female   8.0             0              0           No   \n",
       "3  56543  Female  70.0             0              0          Yes   \n",
       "4  46136    Male  14.0             0              0           No   \n",
       "\n",
       "      work_type Residence_type  avg_glucose_level   bmi   smoking_status  \\\n",
       "0      children          Rural              95.12  18.0              NaN   \n",
       "1       Private          Urban              87.96  39.2     never smoked   \n",
       "2       Private          Urban             110.89  17.6              NaN   \n",
       "3       Private          Rural              69.04  35.9  formerly smoked   \n",
       "4  Never_worked          Rural             161.28  19.1              NaN   \n",
       "\n",
       "   stroke  \n",
       "0       0  \n",
       "1       0  \n",
       "2       0  \n",
       "3       0  \n",
       "4       0  "
      ]
     },
     "execution_count": 5,
     "metadata": {},
     "output_type": "execute_result"
    }
   ],
   "source": [
    "stroke_data = pd.read_csv('stroke prediction.csv')\n",
    "stroke_data.head()"
   ]
  },
  {
   "cell_type": "code",
   "execution_count": 6,
   "id": "3b359695",
   "metadata": {},
   "outputs": [],
   "source": [
    "#Creating Bins\n",
    "bins=[0,12,19,30,60,90]\n",
    "group=['child','teenager','young_adult','middle_aged', 'senior_citizen']\n",
    "stroke_data['age_category']=pd.cut(stroke_data['age'], bins, labels=group)"
   ]
  },
  {
   "cell_type": "code",
   "execution_count": 7,
   "id": "d51ac2a5",
   "metadata": {},
   "outputs": [
    {
     "data": {
      "text/html": [
       "<div>\n",
       "<style scoped>\n",
       "    .dataframe tbody tr th:only-of-type {\n",
       "        vertical-align: middle;\n",
       "    }\n",
       "\n",
       "    .dataframe tbody tr th {\n",
       "        vertical-align: top;\n",
       "    }\n",
       "\n",
       "    .dataframe thead th {\n",
       "        text-align: right;\n",
       "    }\n",
       "</style>\n",
       "<table border=\"1\" class=\"dataframe\">\n",
       "  <thead>\n",
       "    <tr style=\"text-align: right;\">\n",
       "      <th></th>\n",
       "      <th>age</th>\n",
       "      <th>age_category</th>\n",
       "    </tr>\n",
       "  </thead>\n",
       "  <tbody>\n",
       "    <tr>\n",
       "      <th>0</th>\n",
       "      <td>3.0</td>\n",
       "      <td>child</td>\n",
       "    </tr>\n",
       "    <tr>\n",
       "      <th>1</th>\n",
       "      <td>58.0</td>\n",
       "      <td>middle_aged</td>\n",
       "    </tr>\n",
       "    <tr>\n",
       "      <th>2</th>\n",
       "      <td>8.0</td>\n",
       "      <td>child</td>\n",
       "    </tr>\n",
       "    <tr>\n",
       "      <th>3</th>\n",
       "      <td>70.0</td>\n",
       "      <td>senior_citizen</td>\n",
       "    </tr>\n",
       "    <tr>\n",
       "      <th>4</th>\n",
       "      <td>14.0</td>\n",
       "      <td>teenager</td>\n",
       "    </tr>\n",
       "  </tbody>\n",
       "</table>\n",
       "</div>"
      ],
      "text/plain": [
       "    age    age_category\n",
       "0   3.0           child\n",
       "1  58.0     middle_aged\n",
       "2   8.0           child\n",
       "3  70.0  senior_citizen\n",
       "4  14.0        teenager"
      ]
     },
     "execution_count": 7,
     "metadata": {},
     "output_type": "execute_result"
    }
   ],
   "source": [
    "stroke_data[['age', 'age_category']].head()"
   ]
  },
  {
   "cell_type": "code",
   "execution_count": 8,
   "id": "d68a6daf",
   "metadata": {},
   "outputs": [],
   "source": [
    "#Binnng using decision tress split\n",
    "bins=[0,49.5,66.5,77.5,90]\n",
    "group=['Bin_1','Bin_2','Bin_3','Bin_4']\n",
    "stroke_data['age_category']=pd.cut(stroke_data['age'], bins, labels=group)"
   ]
  },
  {
   "cell_type": "code",
   "execution_count": 9,
   "id": "ae631c39",
   "metadata": {},
   "outputs": [
    {
     "data": {
      "text/html": [
       "<div>\n",
       "<style scoped>\n",
       "    .dataframe tbody tr th:only-of-type {\n",
       "        vertical-align: middle;\n",
       "    }\n",
       "\n",
       "    .dataframe tbody tr th {\n",
       "        vertical-align: top;\n",
       "    }\n",
       "\n",
       "    .dataframe thead th {\n",
       "        text-align: right;\n",
       "    }\n",
       "</style>\n",
       "<table border=\"1\" class=\"dataframe\">\n",
       "  <thead>\n",
       "    <tr style=\"text-align: right;\">\n",
       "      <th></th>\n",
       "      <th>age</th>\n",
       "      <th>age_category</th>\n",
       "    </tr>\n",
       "  </thead>\n",
       "  <tbody>\n",
       "    <tr>\n",
       "      <th>0</th>\n",
       "      <td>3.0</td>\n",
       "      <td>Bin_1</td>\n",
       "    </tr>\n",
       "    <tr>\n",
       "      <th>1</th>\n",
       "      <td>58.0</td>\n",
       "      <td>Bin_2</td>\n",
       "    </tr>\n",
       "    <tr>\n",
       "      <th>2</th>\n",
       "      <td>8.0</td>\n",
       "      <td>Bin_1</td>\n",
       "    </tr>\n",
       "    <tr>\n",
       "      <th>3</th>\n",
       "      <td>70.0</td>\n",
       "      <td>Bin_3</td>\n",
       "    </tr>\n",
       "    <tr>\n",
       "      <th>4</th>\n",
       "      <td>14.0</td>\n",
       "      <td>Bin_1</td>\n",
       "    </tr>\n",
       "  </tbody>\n",
       "</table>\n",
       "</div>"
      ],
      "text/plain": [
       "    age age_category\n",
       "0   3.0        Bin_1\n",
       "1  58.0        Bin_2\n",
       "2   8.0        Bin_1\n",
       "3  70.0        Bin_3\n",
       "4  14.0        Bin_1"
      ]
     },
     "execution_count": 9,
     "metadata": {},
     "output_type": "execute_result"
    }
   ],
   "source": [
    "stroke_data[['age', 'age_category']].head()"
   ]
  },
  {
   "cell_type": "code",
   "execution_count": null,
   "id": "05a7e883",
   "metadata": {},
   "outputs": [],
   "source": []
  },
  {
   "cell_type": "markdown",
   "id": "4e03bde5",
   "metadata": {},
   "source": [
    "# 2. Combining Sparce classes"
   ]
  },
  {
   "cell_type": "code",
   "execution_count": 10,
   "id": "f3d2ed59",
   "metadata": {},
   "outputs": [],
   "source": [
    "bigmart = pd.read_csv('train_bm.csv')"
   ]
  },
  {
   "cell_type": "code",
   "execution_count": 11,
   "id": "d589e8e4",
   "metadata": {},
   "outputs": [
    {
     "data": {
      "text/html": [
       "<div>\n",
       "<style scoped>\n",
       "    .dataframe tbody tr th:only-of-type {\n",
       "        vertical-align: middle;\n",
       "    }\n",
       "\n",
       "    .dataframe tbody tr th {\n",
       "        vertical-align: top;\n",
       "    }\n",
       "\n",
       "    .dataframe thead th {\n",
       "        text-align: right;\n",
       "    }\n",
       "</style>\n",
       "<table border=\"1\" class=\"dataframe\">\n",
       "  <thead>\n",
       "    <tr style=\"text-align: right;\">\n",
       "      <th></th>\n",
       "      <th>Item_Identifier</th>\n",
       "      <th>Item_Weight</th>\n",
       "      <th>Item_Fat_Content</th>\n",
       "      <th>Item_Visibility</th>\n",
       "      <th>Item_Type</th>\n",
       "      <th>Item_MRP</th>\n",
       "      <th>Outlet_Identifier</th>\n",
       "      <th>Outlet_Establishment_Year</th>\n",
       "      <th>Outlet_Size</th>\n",
       "      <th>Outlet_Location_Type</th>\n",
       "      <th>Outlet_Type</th>\n",
       "      <th>Item_Outlet_Sales</th>\n",
       "    </tr>\n",
       "  </thead>\n",
       "  <tbody>\n",
       "    <tr>\n",
       "      <th>0</th>\n",
       "      <td>FDA15</td>\n",
       "      <td>9.30</td>\n",
       "      <td>Low Fat</td>\n",
       "      <td>0.016047</td>\n",
       "      <td>Dairy</td>\n",
       "      <td>249.8092</td>\n",
       "      <td>OUT049</td>\n",
       "      <td>1999</td>\n",
       "      <td>Medium</td>\n",
       "      <td>Tier 1</td>\n",
       "      <td>Supermarket Type1</td>\n",
       "      <td>3735.1380</td>\n",
       "    </tr>\n",
       "    <tr>\n",
       "      <th>1</th>\n",
       "      <td>DRC01</td>\n",
       "      <td>5.92</td>\n",
       "      <td>Regular</td>\n",
       "      <td>0.019278</td>\n",
       "      <td>Soft Drinks</td>\n",
       "      <td>48.2692</td>\n",
       "      <td>OUT018</td>\n",
       "      <td>2009</td>\n",
       "      <td>Medium</td>\n",
       "      <td>Tier 3</td>\n",
       "      <td>Supermarket Type2</td>\n",
       "      <td>443.4228</td>\n",
       "    </tr>\n",
       "    <tr>\n",
       "      <th>2</th>\n",
       "      <td>FDN15</td>\n",
       "      <td>17.50</td>\n",
       "      <td>Low Fat</td>\n",
       "      <td>0.016760</td>\n",
       "      <td>Meat</td>\n",
       "      <td>141.6180</td>\n",
       "      <td>OUT049</td>\n",
       "      <td>1999</td>\n",
       "      <td>Medium</td>\n",
       "      <td>Tier 1</td>\n",
       "      <td>Supermarket Type1</td>\n",
       "      <td>2097.2700</td>\n",
       "    </tr>\n",
       "    <tr>\n",
       "      <th>3</th>\n",
       "      <td>FDX07</td>\n",
       "      <td>19.20</td>\n",
       "      <td>Regular</td>\n",
       "      <td>0.000000</td>\n",
       "      <td>Fruits and Vegetables</td>\n",
       "      <td>182.0950</td>\n",
       "      <td>OUT010</td>\n",
       "      <td>1998</td>\n",
       "      <td>NaN</td>\n",
       "      <td>Tier 3</td>\n",
       "      <td>Grocery Store</td>\n",
       "      <td>732.3800</td>\n",
       "    </tr>\n",
       "    <tr>\n",
       "      <th>4</th>\n",
       "      <td>NCD19</td>\n",
       "      <td>8.93</td>\n",
       "      <td>Low Fat</td>\n",
       "      <td>0.000000</td>\n",
       "      <td>Household</td>\n",
       "      <td>53.8614</td>\n",
       "      <td>OUT013</td>\n",
       "      <td>1987</td>\n",
       "      <td>High</td>\n",
       "      <td>Tier 3</td>\n",
       "      <td>Supermarket Type1</td>\n",
       "      <td>994.7052</td>\n",
       "    </tr>\n",
       "  </tbody>\n",
       "</table>\n",
       "</div>"
      ],
      "text/plain": [
       "  Item_Identifier  Item_Weight Item_Fat_Content  Item_Visibility  \\\n",
       "0           FDA15         9.30          Low Fat         0.016047   \n",
       "1           DRC01         5.92          Regular         0.019278   \n",
       "2           FDN15        17.50          Low Fat         0.016760   \n",
       "3           FDX07        19.20          Regular         0.000000   \n",
       "4           NCD19         8.93          Low Fat         0.000000   \n",
       "\n",
       "               Item_Type  Item_MRP Outlet_Identifier  \\\n",
       "0                  Dairy  249.8092            OUT049   \n",
       "1            Soft Drinks   48.2692            OUT018   \n",
       "2                   Meat  141.6180            OUT049   \n",
       "3  Fruits and Vegetables  182.0950            OUT010   \n",
       "4              Household   53.8614            OUT013   \n",
       "\n",
       "   Outlet_Establishment_Year Outlet_Size Outlet_Location_Type  \\\n",
       "0                       1999      Medium               Tier 1   \n",
       "1                       2009      Medium               Tier 3   \n",
       "2                       1999      Medium               Tier 1   \n",
       "3                       1998         NaN               Tier 3   \n",
       "4                       1987        High               Tier 3   \n",
       "\n",
       "         Outlet_Type  Item_Outlet_Sales  \n",
       "0  Supermarket Type1          3735.1380  \n",
       "1  Supermarket Type2           443.4228  \n",
       "2  Supermarket Type1          2097.2700  \n",
       "3      Grocery Store           732.3800  \n",
       "4  Supermarket Type1           994.7052  "
      ]
     },
     "execution_count": 11,
     "metadata": {},
     "output_type": "execute_result"
    }
   ],
   "source": [
    "bigmart.head()"
   ]
  },
  {
   "cell_type": "code",
   "execution_count": 12,
   "id": "24348f7f",
   "metadata": {},
   "outputs": [
    {
     "data": {
      "text/plain": [
       "(8523, 12)"
      ]
     },
     "execution_count": 12,
     "metadata": {},
     "output_type": "execute_result"
    }
   ],
   "source": [
    "bigmart.shape"
   ]
  },
  {
   "cell_type": "code",
   "execution_count": 13,
   "id": "8075df85",
   "metadata": {},
   "outputs": [
    {
     "data": {
      "text/plain": [
       "Item_Identifier               object\n",
       "Item_Weight                  float64\n",
       "Item_Fat_Content              object\n",
       "Item_Visibility              float64\n",
       "Item_Type                     object\n",
       "Item_MRP                     float64\n",
       "Outlet_Identifier             object\n",
       "Outlet_Establishment_Year      int64\n",
       "Outlet_Size                   object\n",
       "Outlet_Location_Type          object\n",
       "Outlet_Type                   object\n",
       "Item_Outlet_Sales            float64\n",
       "dtype: object"
      ]
     },
     "execution_count": 13,
     "metadata": {},
     "output_type": "execute_result"
    }
   ],
   "source": [
    "bigmart.dtypes"
   ]
  },
  {
   "cell_type": "markdown",
   "id": "146e897a",
   "metadata": {},
   "source": [
    "##### One hot Encoding¶"
   ]
  },
  {
   "cell_type": "code",
   "execution_count": 14,
   "id": "06e2b581",
   "metadata": {},
   "outputs": [
    {
     "data": {
      "text/plain": [
       "Supermarket Type1    5577\n",
       "Grocery Store        1083\n",
       "Supermarket Type3     935\n",
       "Supermarket Type2     928\n",
       "Name: Outlet_Type, dtype: int64"
      ]
     },
     "execution_count": 14,
     "metadata": {},
     "output_type": "execute_result"
    }
   ],
   "source": [
    "bigmart['Outlet_Type'].value_counts()"
   ]
  },
  {
   "cell_type": "code",
   "execution_count": 15,
   "id": "43a8fd5a",
   "metadata": {},
   "outputs": [
    {
     "data": {
      "text/html": [
       "<div>\n",
       "<style scoped>\n",
       "    .dataframe tbody tr th:only-of-type {\n",
       "        vertical-align: middle;\n",
       "    }\n",
       "\n",
       "    .dataframe tbody tr th {\n",
       "        vertical-align: top;\n",
       "    }\n",
       "\n",
       "    .dataframe thead th {\n",
       "        text-align: right;\n",
       "    }\n",
       "</style>\n",
       "<table border=\"1\" class=\"dataframe\">\n",
       "  <thead>\n",
       "    <tr style=\"text-align: right;\">\n",
       "      <th></th>\n",
       "      <th>Grocery Store</th>\n",
       "      <th>Supermarket Type1</th>\n",
       "      <th>Supermarket Type2</th>\n",
       "      <th>Supermarket Type3</th>\n",
       "    </tr>\n",
       "  </thead>\n",
       "  <tbody>\n",
       "    <tr>\n",
       "      <th>0</th>\n",
       "      <td>0</td>\n",
       "      <td>1</td>\n",
       "      <td>0</td>\n",
       "      <td>0</td>\n",
       "    </tr>\n",
       "    <tr>\n",
       "      <th>1</th>\n",
       "      <td>0</td>\n",
       "      <td>0</td>\n",
       "      <td>1</td>\n",
       "      <td>0</td>\n",
       "    </tr>\n",
       "    <tr>\n",
       "      <th>2</th>\n",
       "      <td>0</td>\n",
       "      <td>1</td>\n",
       "      <td>0</td>\n",
       "      <td>0</td>\n",
       "    </tr>\n",
       "    <tr>\n",
       "      <th>3</th>\n",
       "      <td>1</td>\n",
       "      <td>0</td>\n",
       "      <td>0</td>\n",
       "      <td>0</td>\n",
       "    </tr>\n",
       "    <tr>\n",
       "      <th>4</th>\n",
       "      <td>0</td>\n",
       "      <td>1</td>\n",
       "      <td>0</td>\n",
       "      <td>0</td>\n",
       "    </tr>\n",
       "  </tbody>\n",
       "</table>\n",
       "</div>"
      ],
      "text/plain": [
       "   Grocery Store  Supermarket Type1  Supermarket Type2  Supermarket Type3\n",
       "0              0                  1                  0                  0\n",
       "1              0                  0                  1                  0\n",
       "2              0                  1                  0                  0\n",
       "3              1                  0                  0                  0\n",
       "4              0                  1                  0                  0"
      ]
     },
     "execution_count": 15,
     "metadata": {},
     "output_type": "execute_result"
    }
   ],
   "source": [
    "pd.get_dummies(bigmart['Outlet_Type']).head()"
   ]
  },
  {
   "cell_type": "code",
   "execution_count": 16,
   "id": "5865c4fa",
   "metadata": {},
   "outputs": [
    {
     "data": {
      "text/html": [
       "<div>\n",
       "<style scoped>\n",
       "    .dataframe tbody tr th:only-of-type {\n",
       "        vertical-align: middle;\n",
       "    }\n",
       "\n",
       "    .dataframe tbody tr th {\n",
       "        vertical-align: top;\n",
       "    }\n",
       "\n",
       "    .dataframe thead th {\n",
       "        text-align: right;\n",
       "    }\n",
       "</style>\n",
       "<table border=\"1\" class=\"dataframe\">\n",
       "  <thead>\n",
       "    <tr style=\"text-align: right;\">\n",
       "      <th></th>\n",
       "      <th>Item_Weight</th>\n",
       "      <th>Item_Visibility</th>\n",
       "      <th>Item_MRP</th>\n",
       "      <th>Outlet_Establishment_Year</th>\n",
       "      <th>Item_Outlet_Sales</th>\n",
       "      <th>Item_Identifier_DRA12</th>\n",
       "      <th>Item_Identifier_DRA24</th>\n",
       "      <th>Item_Identifier_DRA59</th>\n",
       "      <th>Item_Identifier_DRB01</th>\n",
       "      <th>Item_Identifier_DRB13</th>\n",
       "      <th>...</th>\n",
       "      <th>Outlet_Size_High</th>\n",
       "      <th>Outlet_Size_Medium</th>\n",
       "      <th>Outlet_Size_Small</th>\n",
       "      <th>Outlet_Location_Type_Tier 1</th>\n",
       "      <th>Outlet_Location_Type_Tier 2</th>\n",
       "      <th>Outlet_Location_Type_Tier 3</th>\n",
       "      <th>Outlet_Type_Grocery Store</th>\n",
       "      <th>Outlet_Type_Supermarket Type1</th>\n",
       "      <th>Outlet_Type_Supermarket Type2</th>\n",
       "      <th>Outlet_Type_Supermarket Type3</th>\n",
       "    </tr>\n",
       "  </thead>\n",
       "  <tbody>\n",
       "    <tr>\n",
       "      <th>0</th>\n",
       "      <td>9.30</td>\n",
       "      <td>0.016047</td>\n",
       "      <td>249.8092</td>\n",
       "      <td>1999</td>\n",
       "      <td>3735.1380</td>\n",
       "      <td>0</td>\n",
       "      <td>0</td>\n",
       "      <td>0</td>\n",
       "      <td>0</td>\n",
       "      <td>0</td>\n",
       "      <td>...</td>\n",
       "      <td>0</td>\n",
       "      <td>1</td>\n",
       "      <td>0</td>\n",
       "      <td>1</td>\n",
       "      <td>0</td>\n",
       "      <td>0</td>\n",
       "      <td>0</td>\n",
       "      <td>1</td>\n",
       "      <td>0</td>\n",
       "      <td>0</td>\n",
       "    </tr>\n",
       "    <tr>\n",
       "      <th>1</th>\n",
       "      <td>5.92</td>\n",
       "      <td>0.019278</td>\n",
       "      <td>48.2692</td>\n",
       "      <td>2009</td>\n",
       "      <td>443.4228</td>\n",
       "      <td>0</td>\n",
       "      <td>0</td>\n",
       "      <td>0</td>\n",
       "      <td>0</td>\n",
       "      <td>0</td>\n",
       "      <td>...</td>\n",
       "      <td>0</td>\n",
       "      <td>1</td>\n",
       "      <td>0</td>\n",
       "      <td>0</td>\n",
       "      <td>0</td>\n",
       "      <td>1</td>\n",
       "      <td>0</td>\n",
       "      <td>0</td>\n",
       "      <td>1</td>\n",
       "      <td>0</td>\n",
       "    </tr>\n",
       "    <tr>\n",
       "      <th>2</th>\n",
       "      <td>17.50</td>\n",
       "      <td>0.016760</td>\n",
       "      <td>141.6180</td>\n",
       "      <td>1999</td>\n",
       "      <td>2097.2700</td>\n",
       "      <td>0</td>\n",
       "      <td>0</td>\n",
       "      <td>0</td>\n",
       "      <td>0</td>\n",
       "      <td>0</td>\n",
       "      <td>...</td>\n",
       "      <td>0</td>\n",
       "      <td>1</td>\n",
       "      <td>0</td>\n",
       "      <td>1</td>\n",
       "      <td>0</td>\n",
       "      <td>0</td>\n",
       "      <td>0</td>\n",
       "      <td>1</td>\n",
       "      <td>0</td>\n",
       "      <td>0</td>\n",
       "    </tr>\n",
       "    <tr>\n",
       "      <th>3</th>\n",
       "      <td>19.20</td>\n",
       "      <td>0.000000</td>\n",
       "      <td>182.0950</td>\n",
       "      <td>1998</td>\n",
       "      <td>732.3800</td>\n",
       "      <td>0</td>\n",
       "      <td>0</td>\n",
       "      <td>0</td>\n",
       "      <td>0</td>\n",
       "      <td>0</td>\n",
       "      <td>...</td>\n",
       "      <td>0</td>\n",
       "      <td>0</td>\n",
       "      <td>0</td>\n",
       "      <td>0</td>\n",
       "      <td>0</td>\n",
       "      <td>1</td>\n",
       "      <td>1</td>\n",
       "      <td>0</td>\n",
       "      <td>0</td>\n",
       "      <td>0</td>\n",
       "    </tr>\n",
       "    <tr>\n",
       "      <th>4</th>\n",
       "      <td>8.93</td>\n",
       "      <td>0.000000</td>\n",
       "      <td>53.8614</td>\n",
       "      <td>1987</td>\n",
       "      <td>994.7052</td>\n",
       "      <td>0</td>\n",
       "      <td>0</td>\n",
       "      <td>0</td>\n",
       "      <td>0</td>\n",
       "      <td>0</td>\n",
       "      <td>...</td>\n",
       "      <td>1</td>\n",
       "      <td>0</td>\n",
       "      <td>0</td>\n",
       "      <td>0</td>\n",
       "      <td>0</td>\n",
       "      <td>1</td>\n",
       "      <td>0</td>\n",
       "      <td>1</td>\n",
       "      <td>0</td>\n",
       "      <td>0</td>\n",
       "    </tr>\n",
       "  </tbody>\n",
       "</table>\n",
       "<p>5 rows × 1605 columns</p>\n",
       "</div>"
      ],
      "text/plain": [
       "   Item_Weight  Item_Visibility  Item_MRP  Outlet_Establishment_Year  \\\n",
       "0         9.30         0.016047  249.8092                       1999   \n",
       "1         5.92         0.019278   48.2692                       2009   \n",
       "2        17.50         0.016760  141.6180                       1999   \n",
       "3        19.20         0.000000  182.0950                       1998   \n",
       "4         8.93         0.000000   53.8614                       1987   \n",
       "\n",
       "   Item_Outlet_Sales  Item_Identifier_DRA12  Item_Identifier_DRA24  \\\n",
       "0          3735.1380                      0                      0   \n",
       "1           443.4228                      0                      0   \n",
       "2          2097.2700                      0                      0   \n",
       "3           732.3800                      0                      0   \n",
       "4           994.7052                      0                      0   \n",
       "\n",
       "   Item_Identifier_DRA59  Item_Identifier_DRB01  Item_Identifier_DRB13  ...  \\\n",
       "0                      0                      0                      0  ...   \n",
       "1                      0                      0                      0  ...   \n",
       "2                      0                      0                      0  ...   \n",
       "3                      0                      0                      0  ...   \n",
       "4                      0                      0                      0  ...   \n",
       "\n",
       "   Outlet_Size_High  Outlet_Size_Medium  Outlet_Size_Small  \\\n",
       "0                 0                   1                  0   \n",
       "1                 0                   1                  0   \n",
       "2                 0                   1                  0   \n",
       "3                 0                   0                  0   \n",
       "4                 1                   0                  0   \n",
       "\n",
       "   Outlet_Location_Type_Tier 1  Outlet_Location_Type_Tier 2  \\\n",
       "0                            1                            0   \n",
       "1                            0                            0   \n",
       "2                            1                            0   \n",
       "3                            0                            0   \n",
       "4                            0                            0   \n",
       "\n",
       "   Outlet_Location_Type_Tier 3  Outlet_Type_Grocery Store  \\\n",
       "0                            0                          0   \n",
       "1                            1                          0   \n",
       "2                            0                          0   \n",
       "3                            1                          1   \n",
       "4                            1                          0   \n",
       "\n",
       "   Outlet_Type_Supermarket Type1  Outlet_Type_Supermarket Type2  \\\n",
       "0                              1                              0   \n",
       "1                              0                              1   \n",
       "2                              1                              0   \n",
       "3                              0                              0   \n",
       "4                              1                              0   \n",
       "\n",
       "   Outlet_Type_Supermarket Type3  \n",
       "0                              0  \n",
       "1                              0  \n",
       "2                              0  \n",
       "3                              0  \n",
       "4                              0  \n",
       "\n",
       "[5 rows x 1605 columns]"
      ]
     },
     "execution_count": 16,
     "metadata": {},
     "output_type": "execute_result"
    }
   ],
   "source": [
    "bigmart_encoded = pd.get_dummies(bigmart)\n",
    "bigmart_encoded.head()"
   ]
  },
  {
   "cell_type": "markdown",
   "id": "72a0ea46",
   "metadata": {},
   "source": [
    "We have two problems here: \n",
    "\n",
    "Problem 1:\n",
    "\n",
    "Look at the newly created variables 'Outlet_Size_High Outlet_Size_Medium Outlet_Size_Small', the order between these variables is destroyed. As a result we are missing out on some important information. \n"
   ]
  },
  {
   "cell_type": "code",
   "execution_count": 17,
   "id": "fac6c98f",
   "metadata": {},
   "outputs": [
    {
     "data": {
      "text/html": [
       "<div>\n",
       "<style scoped>\n",
       "    .dataframe tbody tr th:only-of-type {\n",
       "        vertical-align: middle;\n",
       "    }\n",
       "\n",
       "    .dataframe tbody tr th {\n",
       "        vertical-align: top;\n",
       "    }\n",
       "\n",
       "    .dataframe thead th {\n",
       "        text-align: right;\n",
       "    }\n",
       "</style>\n",
       "<table border=\"1\" class=\"dataframe\">\n",
       "  <thead>\n",
       "    <tr style=\"text-align: right;\">\n",
       "      <th></th>\n",
       "      <th>Outlet_Size_High</th>\n",
       "      <th>Outlet_Size_Medium</th>\n",
       "      <th>Outlet_Size_Small</th>\n",
       "    </tr>\n",
       "  </thead>\n",
       "  <tbody>\n",
       "    <tr>\n",
       "      <th>0</th>\n",
       "      <td>0</td>\n",
       "      <td>1</td>\n",
       "      <td>0</td>\n",
       "    </tr>\n",
       "    <tr>\n",
       "      <th>1</th>\n",
       "      <td>0</td>\n",
       "      <td>1</td>\n",
       "      <td>0</td>\n",
       "    </tr>\n",
       "    <tr>\n",
       "      <th>2</th>\n",
       "      <td>0</td>\n",
       "      <td>1</td>\n",
       "      <td>0</td>\n",
       "    </tr>\n",
       "    <tr>\n",
       "      <th>3</th>\n",
       "      <td>0</td>\n",
       "      <td>0</td>\n",
       "      <td>0</td>\n",
       "    </tr>\n",
       "    <tr>\n",
       "      <th>4</th>\n",
       "      <td>1</td>\n",
       "      <td>0</td>\n",
       "      <td>0</td>\n",
       "    </tr>\n",
       "  </tbody>\n",
       "</table>\n",
       "</div>"
      ],
      "text/plain": [
       "   Outlet_Size_High  Outlet_Size_Medium  Outlet_Size_Small\n",
       "0                 0                   1                  0\n",
       "1                 0                   1                  0\n",
       "2                 0                   1                  0\n",
       "3                 0                   0                  0\n",
       "4                 1                   0                  0"
      ]
     },
     "execution_count": 17,
     "metadata": {},
     "output_type": "execute_result"
    }
   ],
   "source": [
    "bigmart_encoded[['Outlet_Size_High', 'Outlet_Size_Medium', 'Outlet_Size_Small']].head()"
   ]
  },
  {
   "cell_type": "code",
   "execution_count": 18,
   "id": "90f722dc",
   "metadata": {},
   "outputs": [
    {
     "ename": "SyntaxError",
     "evalue": "invalid syntax (<ipython-input-18-58c02519de99>, line 1)",
     "output_type": "error",
     "traceback": [
      "\u001b[1;36m  File \u001b[1;32m\"<ipython-input-18-58c02519de99>\"\u001b[1;36m, line \u001b[1;32m1\u001b[0m\n\u001b[1;33m    Problem 2\u001b[0m\n\u001b[1;37m            ^\u001b[0m\n\u001b[1;31mSyntaxError\u001b[0m\u001b[1;31m:\u001b[0m invalid syntax\n"
     ]
    }
   ],
   "source": [
    "Problem 2\n",
    "\n",
    "The number of features has increased from 12 to 1600, where maximum values are 0\n"
   ]
  },
  {
   "cell_type": "code",
   "execution_count": null,
   "id": "a32bfe0d",
   "metadata": {},
   "outputs": [],
   "source": [
    "bigmart_encoded.shape, bigmart.shape"
   ]
  },
  {
   "cell_type": "code",
   "execution_count": null,
   "id": "96318fdf",
   "metadata": {},
   "outputs": [],
   "source": [
    "bigmart_encoded[['Item_Identifier_DRA12', 'Item_Identifier_DRA24',\n",
    "       'Item_Identifier_DRA59', 'Item_Identifier_DRB01',\n",
    "       'Item_Identifier_DRB13', 'Item_Identifier_DRB24',\n",
    "       'Item_Identifier_DRB25', 'Item_Identifier_DRB48',\n",
    "       'Item_Identifier_DRC01', 'Item_Identifier_DRC12',\n",
    "       'Item_Identifier_DRC13', 'Item_Identifier_DRC24',\n",
    "       'Item_Identifier_DRC25', 'Item_Identifier_DRC27',\n",
    "       'Item_Identifier_DRC36', 'Item_Identifier_DRC49',\n",
    "       'Item_Identifier_DRD01', 'Item_Identifier_DRD12',\n",
    "       'Item_Identifier_DRD13', 'Item_Identifier_DRD15',\n",
    "       'Item_Identifier_DRD24', 'Item_Identifier_DRD25',\n",
    "       'Item_Identifier_DRD27', 'Item_Identifier_DRD37',\n",
    "       'Item_Identifier_DRD49']].head()"
   ]
  },
  {
   "cell_type": "markdown",
   "id": "63f45e33",
   "metadata": {},
   "source": [
    "##### Problem 1 solution - Label Encoding"
   ]
  },
  {
   "cell_type": "code",
   "execution_count": null,
   "id": "a681ef6f",
   "metadata": {},
   "outputs": [],
   "source": [
    "from sklearn.preprocessing import LabelEncoder"
   ]
  },
  {
   "cell_type": "code",
   "execution_count": null,
   "id": "a7fd2cf0",
   "metadata": {},
   "outputs": [],
   "source": [
    "bigmart['Outlet_Size'].value_counts()"
   ]
  },
  {
   "cell_type": "code",
   "execution_count": null,
   "id": "e9c1f579",
   "metadata": {},
   "outputs": [],
   "source": [
    "le = LabelEncoder()\n",
    "le.fit_transform(['Small', 'Medium', 'High'])"
   ]
  },
  {
   "cell_type": "code",
   "execution_count": null,
   "id": "66e2050f",
   "metadata": {},
   "outputs": [],
   "source": [
    "#Label encoder uses the alphabetical order. \n",
    "bigmart['Outlet_Size'] = bigmart['Outlet_Size'].map({'Small': 0,\n",
    "                                                     'Medium': 1,\n",
    "                                                     'High': 2})"
   ]
  },
  {
   "cell_type": "code",
   "execution_count": null,
   "id": "fc2faa2c",
   "metadata": {},
   "outputs": [],
   "source": [
    "bigmart['Outlet_Size'].head()"
   ]
  },
  {
   "cell_type": "markdown",
   "id": "09d86d34",
   "metadata": {},
   "source": [
    "So that solves the first challenge we encountered. Now we'll see how to deal with high cardinality."
   ]
  },
  {
   "cell_type": "markdown",
   "id": "748ec1de",
   "metadata": {},
   "source": [
    "##### Problem 2 solution"
   ]
  },
  {
   "cell_type": "code",
   "execution_count": null,
   "id": "311d17be",
   "metadata": {},
   "outputs": [],
   "source": [
    "bigmart.nunique()"
   ]
  },
  {
   "cell_type": "code",
   "execution_count": null,
   "id": "c718c1e2",
   "metadata": {},
   "outputs": [],
   "source": [
    "bigmart['Item_Identifier'].value_counts()"
   ]
  },
  {
   "cell_type": "code",
   "execution_count": null,
   "id": "0e01dc87",
   "metadata": {},
   "outputs": [],
   "source": [
    "temp= bigmart['Item_Identifier'].value_counts()\n",
    "temp.head()"
   ]
  },
  {
   "cell_type": "code",
   "execution_count": null,
   "id": "1286656d",
   "metadata": {},
   "outputs": [],
   "source": [
    "bigmart['Item_identifier_count'] = bigmart['Item_Identifier'].apply(lambda x: temp[x])\n",
    "bigmart[['Item_Identifier','Item_identifier_count']].head()"
   ]
  },
  {
   "cell_type": "code",
   "execution_count": null,
   "id": "6f9b4b29",
   "metadata": {},
   "outputs": [],
   "source": [
    "for i in range(0, len(bigmart)):\n",
    "    if bigmart['Item_identifier_count'][i] < 4:\n",
    "        bigmart['Item_Identifier'][i] = 'other'"
   ]
  },
  {
   "cell_type": "code",
   "execution_count": null,
   "id": "710f8350",
   "metadata": {},
   "outputs": [],
   "source": [
    "bigmart.head(7)"
   ]
  },
  {
   "cell_type": "code",
   "execution_count": null,
   "id": "9023c383",
   "metadata": {},
   "outputs": [],
   "source": [
    "bigmart['Item_Identifier'].value_counts()"
   ]
  },
  {
   "cell_type": "code",
   "execution_count": null,
   "id": "112b3bb0",
   "metadata": {},
   "outputs": [],
   "source": []
  },
  {
   "cell_type": "markdown",
   "id": "62370d2c",
   "metadata": {},
   "source": [
    "# 3. Feature Encoding"
   ]
  },
  {
   "cell_type": "code",
   "execution_count": null,
   "id": "5e54a2d2",
   "metadata": {},
   "outputs": [],
   "source": [
    "bigmart = pd.read_csv('train_bm.csv')"
   ]
  },
  {
   "cell_type": "code",
   "execution_count": null,
   "id": "6aba3a85",
   "metadata": {},
   "outputs": [],
   "source": [
    "bigmart.head()"
   ]
  },
  {
   "cell_type": "code",
   "execution_count": null,
   "id": "c89e840f",
   "metadata": {},
   "outputs": [],
   "source": [
    "bigmart.dtypes"
   ]
  },
  {
   "cell_type": "markdown",
   "id": "a47a625d",
   "metadata": {},
   "source": [
    "##### Encoding a single variable- Outlet Type"
   ]
  },
  {
   "cell_type": "code",
   "execution_count": null,
   "id": "ff777f62",
   "metadata": {},
   "outputs": [],
   "source": [
    "bigmart['Outlet_Type'].value_counts()"
   ]
  },
  {
   "cell_type": "code",
   "execution_count": null,
   "id": "d6b8df83",
   "metadata": {},
   "outputs": [],
   "source": [
    "pd.get_dummies(bigmart['Outlet_Type']).head()"
   ]
  },
  {
   "cell_type": "markdown",
   "id": "37a74b3f",
   "metadata": {},
   "source": [
    "##### Doing one hot encoding for all the variables"
   ]
  },
  {
   "cell_type": "code",
   "execution_count": null,
   "id": "8d5da016",
   "metadata": {},
   "outputs": [],
   "source": [
    "bigmart_encoded = pd.get_dummies(bigmart)\n",
    "bigmart_encoded.head()"
   ]
  },
  {
   "cell_type": "markdown",
   "id": "a5b75c02",
   "metadata": {},
   "source": [
    "We have two problems here: \n",
    "\n",
    "Problem 1:\n",
    "\n",
    "Look at the newly created variables 'Outlet_Size_High Outlet_Size_Medium Outlet_Size_Small', the order between these variables is destroyed. As a result we are missing out on some important information. \n"
   ]
  },
  {
   "cell_type": "code",
   "execution_count": null,
   "id": "57969031",
   "metadata": {},
   "outputs": [],
   "source": [
    "bigmart_encoded[['Outlet_Size_High', 'Outlet_Size_Medium', 'Outlet_Size_Small']].head()"
   ]
  },
  {
   "cell_type": "markdown",
   "id": "c78040b1",
   "metadata": {},
   "source": [
    "Problem 2\n",
    "\n",
    "The number of features has increased from 12 to 1600, where maximum values are 0.\n"
   ]
  },
  {
   "cell_type": "code",
   "execution_count": null,
   "id": "6c9a8ec1",
   "metadata": {},
   "outputs": [],
   "source": [
    "bigmart.shape, bigmart_encoded.shape"
   ]
  },
  {
   "cell_type": "code",
   "execution_count": null,
   "id": "2471d57a",
   "metadata": {},
   "outputs": [],
   "source": [
    "bigmart[['Item_Identifier_DRA12', 'Item_Identifier_DRA24',\n",
    "       'Item_Identifier_DRA59', 'Item_Identifier_DRB01',\n",
    "       'Item_Identifier_DRB13', 'Item_Identifier_DRB24',\n",
    "       'Item_Identifier_DRB25', 'Item_Identifier_DRB48',\n",
    "       'Item_Identifier_DRC01', 'Item_Identifier_DRC12',\n",
    "       'Item_Identifier_DRC13', 'Item_Identifier_DRC24',\n",
    "       'Item_Identifier_DRC25', 'Item_Identifier_DRC27',\n",
    "       'Item_Identifier_DRC36', 'Item_Identifier_DRC49',\n",
    "       'Item_Identifier_DRD01', 'Item_Identifier_DRD12',\n",
    "       'Item_Identifier_DRD13', 'Item_Identifier_DRD15',\n",
    "       'Item_Identifier_DRD24', 'Item_Identifier_DRD25',\n",
    "       'Item_Identifier_DRD27', 'Item_Identifier_DRD37',\n",
    "       'Item_Identifier_DRD49']].head()"
   ]
  },
  {
   "cell_type": "code",
   "execution_count": null,
   "id": "01845bb4",
   "metadata": {},
   "outputs": [],
   "source": [
    "Problem 1 solution"
   ]
  },
  {
   "cell_type": "code",
   "execution_count": null,
   "id": "64161a6d",
   "metadata": {},
   "outputs": [],
   "source": [
    "from sklearn.preprocessing import LabelEncoder\n",
    "le = LabelEncoder()"
   ]
  },
  {
   "cell_type": "code",
   "execution_count": null,
   "id": "b676ec5a",
   "metadata": {},
   "outputs": [],
   "source": [
    "bigmart['Outlet_Size'].value_counts()"
   ]
  },
  {
   "cell_type": "code",
   "execution_count": null,
   "id": "1cb04961",
   "metadata": {},
   "outputs": [],
   "source": [
    "le.fit_transform(['Small', 'Medium', 'High'])"
   ]
  },
  {
   "cell_type": "markdown",
   "id": "145b7090",
   "metadata": {},
   "source": [
    "Label encoder uses the alphabetical order. "
   ]
  },
  {
   "cell_type": "code",
   "execution_count": null,
   "id": "519d07b5",
   "metadata": {},
   "outputs": [],
   "source": [
    "bigmart['Outlet_Size'] = bigmart['Outlet_Size'].map({'Small': 0,\n",
    "                                                     'Medium': 1,\n",
    "                                                     'High': 2})"
   ]
  },
  {
   "cell_type": "markdown",
   "id": "572bd20b",
   "metadata": {},
   "source": [
    "So that solves the first challenge we encountered. Now we'll see how to deal with high cardinality."
   ]
  },
  {
   "cell_type": "code",
   "execution_count": null,
   "id": "9d98cb71",
   "metadata": {},
   "outputs": [],
   "source": []
  },
  {
   "cell_type": "markdown",
   "id": "976c9783",
   "metadata": {},
   "source": [
    "# 4. FEATURE INTERACTION\n",
    "Load Loan Prediction Dataset"
   ]
  },
  {
   "cell_type": "code",
   "execution_count": null,
   "id": "ba120f17",
   "metadata": {},
   "outputs": [],
   "source": [
    "loan_data = pd.read_csv('train_loan.csv')\n",
    "loan_data.head()"
   ]
  },
  {
   "cell_type": "markdown",
   "id": "0e0dd633",
   "metadata": {},
   "source": [
    "##### Feature 1 -Total Income"
   ]
  },
  {
   "cell_type": "code",
   "execution_count": null,
   "id": "34269fe6",
   "metadata": {},
   "outputs": [],
   "source": [
    "loan_data['Total_income'] = loan_data['ApplicantIncome'] + loan_data['CoapplicantIncome'] \n",
    "loan_data[['ApplicantIncome', 'CoapplicantIncome', 'Total_income']].head()"
   ]
  },
  {
   "cell_type": "markdown",
   "id": "e2c45d25",
   "metadata": {},
   "source": [
    "##### Feature 2 - Loan amount and Income Ratio"
   ]
  },
  {
   "cell_type": "code",
   "execution_count": null,
   "id": "25062fdd",
   "metadata": {},
   "outputs": [],
   "source": [
    "loan_data['loan_income_ratio'] = loan_data['LoanAmount'] / loan_data['ApplicantIncome']\n",
    "loan_data[['ApplicantIncome', 'LoanAmount', 'loan_income_ratio']].head()"
   ]
  },
  {
   "cell_type": "code",
   "execution_count": null,
   "id": "201a3367",
   "metadata": {},
   "outputs": [],
   "source": []
  },
  {
   "cell_type": "markdown",
   "id": "f0055ecb",
   "metadata": {},
   "source": [
    "# 5. FEATURE SCALING"
   ]
  },
  {
   "cell_type": "code",
   "execution_count": null,
   "id": "373e5318",
   "metadata": {},
   "outputs": [],
   "source": [
    "bigmart = pd.read_csv('train_bm.csv')"
   ]
  },
  {
   "cell_type": "code",
   "execution_count": null,
   "id": "91b5afcf",
   "metadata": {},
   "outputs": [],
   "source": [
    "data = bigmart[['Item_Visibility', 'Item_MRP']]\n",
    "data.head()"
   ]
  },
  {
   "cell_type": "markdown",
   "id": "6308a176",
   "metadata": {},
   "source": [
    "##### Min Max Scaler"
   ]
  },
  {
   "cell_type": "code",
   "execution_count": null,
   "id": "589621ed",
   "metadata": {},
   "outputs": [],
   "source": [
    "from sklearn.preprocessing import MinMaxScaler"
   ]
  },
  {
   "cell_type": "code",
   "execution_count": null,
   "id": "0754ecd0",
   "metadata": {},
   "outputs": [],
   "source": [
    "scaler = MinMaxScaler()\n",
    "scaled_data = scaler.fit_transform(data)\n",
    "scaled_data = pd.DataFrame(scaled_data, columns=['Item_Visibility', 'Item_MRP'])\n",
    "scaled_data.head()"
   ]
  },
  {
   "cell_type": "code",
   "execution_count": null,
   "id": "6587052e",
   "metadata": {},
   "outputs": [],
   "source": [
    "scaled_data.describe()"
   ]
  },
  {
   "cell_type": "markdown",
   "id": "6dda4354",
   "metadata": {},
   "source": [
    "##### Standard Scaler"
   ]
  },
  {
   "cell_type": "code",
   "execution_count": null,
   "id": "272eedc3",
   "metadata": {},
   "outputs": [],
   "source": [
    "from sklearn.preprocessing import StandardScaler"
   ]
  },
  {
   "cell_type": "code",
   "execution_count": null,
   "id": "25163688",
   "metadata": {},
   "outputs": [],
   "source": [
    "scaler = StandardScaler()\n",
    "scaled_data = scaler.fit_transform(data)\n",
    "scaled_data = pd.DataFrame(scaled_data, columns=['Item_Visibility', 'Item_MRP'])\n",
    "scaled_data.head()"
   ]
  },
  {
   "cell_type": "code",
   "execution_count": null,
   "id": "84a0259e",
   "metadata": {},
   "outputs": [],
   "source": [
    "scaled_data.describe()"
   ]
  },
  {
   "cell_type": "code",
   "execution_count": null,
   "id": "d4b09333",
   "metadata": {},
   "outputs": [],
   "source": []
  },
  {
   "cell_type": "markdown",
   "id": "6a0db978",
   "metadata": {},
   "source": [
    "# 6. FEATURE TRANSFORMATION"
   ]
  },
  {
   "cell_type": "code",
   "execution_count": 19,
   "id": "76ab2841",
   "metadata": {},
   "outputs": [],
   "source": [
    "bigmart = pd.read_csv('train_bm.csv')"
   ]
  },
  {
   "cell_type": "code",
   "execution_count": 20,
   "id": "09439a3c",
   "metadata": {},
   "outputs": [
    {
     "data": {
      "text/html": [
       "<div>\n",
       "<style scoped>\n",
       "    .dataframe tbody tr th:only-of-type {\n",
       "        vertical-align: middle;\n",
       "    }\n",
       "\n",
       "    .dataframe tbody tr th {\n",
       "        vertical-align: top;\n",
       "    }\n",
       "\n",
       "    .dataframe thead th {\n",
       "        text-align: right;\n",
       "    }\n",
       "</style>\n",
       "<table border=\"1\" class=\"dataframe\">\n",
       "  <thead>\n",
       "    <tr style=\"text-align: right;\">\n",
       "      <th></th>\n",
       "      <th>Item_Identifier</th>\n",
       "      <th>Item_Weight</th>\n",
       "      <th>Item_Fat_Content</th>\n",
       "      <th>Item_Visibility</th>\n",
       "      <th>Item_Type</th>\n",
       "      <th>Item_MRP</th>\n",
       "      <th>Outlet_Identifier</th>\n",
       "      <th>Outlet_Establishment_Year</th>\n",
       "      <th>Outlet_Size</th>\n",
       "      <th>Outlet_Location_Type</th>\n",
       "      <th>Outlet_Type</th>\n",
       "      <th>Item_Outlet_Sales</th>\n",
       "    </tr>\n",
       "  </thead>\n",
       "  <tbody>\n",
       "    <tr>\n",
       "      <th>0</th>\n",
       "      <td>FDA15</td>\n",
       "      <td>9.30</td>\n",
       "      <td>Low Fat</td>\n",
       "      <td>0.016047</td>\n",
       "      <td>Dairy</td>\n",
       "      <td>249.8092</td>\n",
       "      <td>OUT049</td>\n",
       "      <td>1999</td>\n",
       "      <td>Medium</td>\n",
       "      <td>Tier 1</td>\n",
       "      <td>Supermarket Type1</td>\n",
       "      <td>3735.1380</td>\n",
       "    </tr>\n",
       "    <tr>\n",
       "      <th>1</th>\n",
       "      <td>DRC01</td>\n",
       "      <td>5.92</td>\n",
       "      <td>Regular</td>\n",
       "      <td>0.019278</td>\n",
       "      <td>Soft Drinks</td>\n",
       "      <td>48.2692</td>\n",
       "      <td>OUT018</td>\n",
       "      <td>2009</td>\n",
       "      <td>Medium</td>\n",
       "      <td>Tier 3</td>\n",
       "      <td>Supermarket Type2</td>\n",
       "      <td>443.4228</td>\n",
       "    </tr>\n",
       "    <tr>\n",
       "      <th>2</th>\n",
       "      <td>FDN15</td>\n",
       "      <td>17.50</td>\n",
       "      <td>Low Fat</td>\n",
       "      <td>0.016760</td>\n",
       "      <td>Meat</td>\n",
       "      <td>141.6180</td>\n",
       "      <td>OUT049</td>\n",
       "      <td>1999</td>\n",
       "      <td>Medium</td>\n",
       "      <td>Tier 1</td>\n",
       "      <td>Supermarket Type1</td>\n",
       "      <td>2097.2700</td>\n",
       "    </tr>\n",
       "    <tr>\n",
       "      <th>3</th>\n",
       "      <td>FDX07</td>\n",
       "      <td>19.20</td>\n",
       "      <td>Regular</td>\n",
       "      <td>0.000000</td>\n",
       "      <td>Fruits and Vegetables</td>\n",
       "      <td>182.0950</td>\n",
       "      <td>OUT010</td>\n",
       "      <td>1998</td>\n",
       "      <td>NaN</td>\n",
       "      <td>Tier 3</td>\n",
       "      <td>Grocery Store</td>\n",
       "      <td>732.3800</td>\n",
       "    </tr>\n",
       "    <tr>\n",
       "      <th>4</th>\n",
       "      <td>NCD19</td>\n",
       "      <td>8.93</td>\n",
       "      <td>Low Fat</td>\n",
       "      <td>0.000000</td>\n",
       "      <td>Household</td>\n",
       "      <td>53.8614</td>\n",
       "      <td>OUT013</td>\n",
       "      <td>1987</td>\n",
       "      <td>High</td>\n",
       "      <td>Tier 3</td>\n",
       "      <td>Supermarket Type1</td>\n",
       "      <td>994.7052</td>\n",
       "    </tr>\n",
       "  </tbody>\n",
       "</table>\n",
       "</div>"
      ],
      "text/plain": [
       "  Item_Identifier  Item_Weight Item_Fat_Content  Item_Visibility  \\\n",
       "0           FDA15         9.30          Low Fat         0.016047   \n",
       "1           DRC01         5.92          Regular         0.019278   \n",
       "2           FDN15        17.50          Low Fat         0.016760   \n",
       "3           FDX07        19.20          Regular         0.000000   \n",
       "4           NCD19         8.93          Low Fat         0.000000   \n",
       "\n",
       "               Item_Type  Item_MRP Outlet_Identifier  \\\n",
       "0                  Dairy  249.8092            OUT049   \n",
       "1            Soft Drinks   48.2692            OUT018   \n",
       "2                   Meat  141.6180            OUT049   \n",
       "3  Fruits and Vegetables  182.0950            OUT010   \n",
       "4              Household   53.8614            OUT013   \n",
       "\n",
       "   Outlet_Establishment_Year Outlet_Size Outlet_Location_Type  \\\n",
       "0                       1999      Medium               Tier 1   \n",
       "1                       2009      Medium               Tier 3   \n",
       "2                       1999      Medium               Tier 1   \n",
       "3                       1998         NaN               Tier 3   \n",
       "4                       1987        High               Tier 3   \n",
       "\n",
       "         Outlet_Type  Item_Outlet_Sales  \n",
       "0  Supermarket Type1          3735.1380  \n",
       "1  Supermarket Type2           443.4228  \n",
       "2  Supermarket Type1          2097.2700  \n",
       "3      Grocery Store           732.3800  \n",
       "4  Supermarket Type1           994.7052  "
      ]
     },
     "execution_count": 20,
     "metadata": {},
     "output_type": "execute_result"
    }
   ],
   "source": [
    "bigmart.head()"
   ]
  },
  {
   "cell_type": "code",
   "execution_count": 21,
   "id": "130d4a58",
   "metadata": {},
   "outputs": [
    {
     "data": {
      "text/plain": [
       "Index(['Item_Identifier', 'Item_Weight', 'Item_Fat_Content', 'Item_Visibility',\n",
       "       'Item_Type', 'Item_MRP', 'Outlet_Identifier',\n",
       "       'Outlet_Establishment_Year', 'Outlet_Size', 'Outlet_Location_Type',\n",
       "       'Outlet_Type', 'Item_Outlet_Sales'],\n",
       "      dtype='object')"
      ]
     },
     "execution_count": 21,
     "metadata": {},
     "output_type": "execute_result"
    }
   ],
   "source": [
    "bigmart.columns"
   ]
  },
  {
   "cell_type": "markdown",
   "id": "5042308e",
   "metadata": {},
   "source": [
    "##### Item Visibility Visualization"
   ]
  },
  {
   "cell_type": "code",
   "execution_count": 22,
   "id": "5e7752d8",
   "metadata": {},
   "outputs": [
    {
     "data": {
      "text/plain": [
       "<AxesSubplot:>"
      ]
     },
     "execution_count": 22,
     "metadata": {},
     "output_type": "execute_result"
    },
    {
     "data": {
      "image/png": "[encoded data removed]",
      "text/plain": [
       "<Figure size 432x288 with 1 Axes>"
      ]
     },
     "metadata": {
      "needs_background": "light"
     },
     "output_type": "display_data"
    }
   ],
   "source": [
    "bigmart['Item_Visibility'].hist(bins=50)"
   ]
  },
  {
   "cell_type": "markdown",
   "id": "d8d3ebfa",
   "metadata": {},
   "source": [
    "We see that its a right skewed distribution. In this case we can take the root or apply log function. Lets try using a square root. "
   ]
  },
  {
   "cell_type": "code",
   "execution_count": 23,
   "id": "88876807",
   "metadata": {},
   "outputs": [],
   "source": [
    "item_visibility_squareroot = np.sqrt(bigmart['Item_Visibility'])"
   ]
  },
  {
   "cell_type": "code",
   "execution_count": 24,
   "id": "e444a812",
   "metadata": {},
   "outputs": [
    {
     "data": {
      "text/plain": [
       "<AxesSubplot:>"
      ]
     },
     "execution_count": 24,
     "metadata": {},
     "output_type": "execute_result"
    },
    {
     "data": {
      "image/png": "[encoded data removed]",
      "text/plain": [
       "<Figure size 432x288 with 1 Axes>"
      ]
     },
     "metadata": {
      "needs_background": "light"
     },
     "output_type": "display_data"
    }
   ],
   "source": [
    "item_visibility_squareroot.hist(bins=50)"
   ]
  },
  {
   "cell_type": "markdown",
   "id": "606edc6c",
   "metadata": {},
   "source": [
    "The resultant is a normal distribution. Now lets use the log function. "
   ]
  },
  {
   "cell_type": "code",
   "execution_count": 25,
   "id": "e6070f26",
   "metadata": {},
   "outputs": [],
   "source": [
    "item_visibility_log = np.log(bigmart['Item_Visibility'])"
   ]
  },
  {
   "cell_type": "markdown",
   "id": "146f1437",
   "metadata": {},
   "source": [
    "** This Shows a warning - 'divide by zero encountered in log'. Lets look at the range of the values in the visibility column**"
   ]
  },
  {
   "cell_type": "code",
   "execution_count": 26,
   "id": "6cbf1be4",
   "metadata": {},
   "outputs": [
    {
     "data": {
      "text/plain": [
       "count    8523.000000\n",
       "mean        0.066132\n",
       "std         0.051598\n",
       "min         0.000000\n",
       "25%         0.026989\n",
       "50%         0.053931\n",
       "75%         0.094585\n",
       "max         0.328391\n",
       "Name: Item_Visibility, dtype: float64"
      ]
     },
     "execution_count": 26,
     "metadata": {},
     "output_type": "execute_result"
    }
   ],
   "source": [
    "bigmart['Item_Visibility'].describe()"
   ]
  },
  {
   "cell_type": "markdown",
   "id": "04dd0009",
   "metadata": {},
   "source": [
    "The minimun value we have is 0, and log(0) is not defined. Thus its showing us an error. So lets add 0.1 to each value and then take the log"
   ]
  },
  {
   "cell_type": "code",
   "execution_count": 27,
   "id": "6229fbe2",
   "metadata": {},
   "outputs": [
    {
     "data": {
      "text/plain": [
       "<AxesSubplot:>"
      ]
     },
     "execution_count": 27,
     "metadata": {},
     "output_type": "execute_result"
    },
    {
     "data": {
      "image/png": "[encoded data removed]",
      "text/plain": [
       "<Figure size 432x288 with 1 Axes>"
      ]
     },
     "metadata": {
      "needs_background": "light"
     },
     "output_type": "display_data"
    }
   ],
   "source": [
    "item_visibility_log = np.log(bigmart['Item_Visibility']+0.1)\n",
    "item_visibility_log.hist(bins=50)"
   ]
  },
  {
   "cell_type": "markdown",
   "id": "b9329fde",
   "metadata": {},
   "source": [
    "Here we get the visibility in negatives. This is because the values in the column are less than 1.\n"
   ]
  },
  {
   "cell_type": "code",
   "execution_count": 28,
   "id": "3951ea71",
   "metadata": {},
   "outputs": [
    {
     "data": {
      "text/plain": [
       "<AxesSubplot:>"
      ]
     },
     "execution_count": 28,
     "metadata": {},
     "output_type": "execute_result"
    },
    {
     "data": {
      "image/png": "[encoded data removed]",
      "text/plain": [
       "<Figure size 432x288 with 1 Axes>"
      ]
     },
     "metadata": {
      "needs_background": "light"
     },
     "output_type": "display_data"
    }
   ],
   "source": [
    "visibility = bigmart['Item_Visibility']*100\n",
    "visibility.hist(bins=50)"
   ]
  },
  {
   "cell_type": "code",
   "execution_count": 29,
   "id": "ba79a6a2",
   "metadata": {},
   "outputs": [],
   "source": [
    "#Now taking the log\n",
    "log_visibility = np.log(visibility+1)"
   ]
  },
  {
   "cell_type": "code",
   "execution_count": 30,
   "id": "9a84ac85",
   "metadata": {},
   "outputs": [
    {
     "data": {
      "text/plain": [
       "<AxesSubplot:>"
      ]
     },
     "execution_count": 30,
     "metadata": {},
     "output_type": "execute_result"
    },
    {
     "data": {
      "image/png": "[encoded data removed]",
      "text/plain": [
       "<Figure size 432x288 with 1 Axes>"
      ]
     },
     "metadata": {
      "needs_background": "light"
     },
     "output_type": "display_data"
    }
   ],
   "source": [
    "log_visibility.hist(bins=50)"
   ]
  },
  {
   "cell_type": "markdown",
   "id": "5a523598",
   "metadata": {},
   "source": [
    "*Now we see that the distribution is symmetric and also the values are positive. *"
   ]
  },
  {
   "cell_type": "code",
   "execution_count": null,
   "id": "a52a552e",
   "metadata": {},
   "outputs": [],
   "source": []
  },
  {
   "cell_type": "markdown",
   "id": "5ac70afe",
   "metadata": {},
   "source": [
    "# 7. MISSING VALUES"
   ]
  },
  {
   "cell_type": "code",
   "execution_count": 31,
   "id": "ff6380df",
   "metadata": {},
   "outputs": [
    {
     "data": {
      "text/html": [
       "<div>\n",
       "<style scoped>\n",
       "    .dataframe tbody tr th:only-of-type {\n",
       "        vertical-align: middle;\n",
       "    }\n",
       "\n",
       "    .dataframe tbody tr th {\n",
       "        vertical-align: top;\n",
       "    }\n",
       "\n",
       "    .dataframe thead th {\n",
       "        text-align: right;\n",
       "    }\n",
       "</style>\n",
       "<table border=\"1\" class=\"dataframe\">\n",
       "  <thead>\n",
       "    <tr style=\"text-align: right;\">\n",
       "      <th></th>\n",
       "      <th>id</th>\n",
       "      <th>gender</th>\n",
       "      <th>age</th>\n",
       "      <th>hypertension</th>\n",
       "      <th>heart_disease</th>\n",
       "      <th>ever_married</th>\n",
       "      <th>work_type</th>\n",
       "      <th>Residence_type</th>\n",
       "      <th>avg_glucose_level</th>\n",
       "      <th>bmi</th>\n",
       "      <th>smoking_status</th>\n",
       "      <th>stroke</th>\n",
       "    </tr>\n",
       "  </thead>\n",
       "  <tbody>\n",
       "    <tr>\n",
       "      <th>0</th>\n",
       "      <td>30669</td>\n",
       "      <td>Male</td>\n",
       "      <td>3.0</td>\n",
       "      <td>0</td>\n",
       "      <td>0</td>\n",
       "      <td>No</td>\n",
       "      <td>children</td>\n",
       "      <td>Rural</td>\n",
       "      <td>95.12</td>\n",
       "      <td>18.0</td>\n",
       "      <td>NaN</td>\n",
       "      <td>0</td>\n",
       "    </tr>\n",
       "    <tr>\n",
       "      <th>1</th>\n",
       "      <td>30468</td>\n",
       "      <td>Male</td>\n",
       "      <td>58.0</td>\n",
       "      <td>1</td>\n",
       "      <td>0</td>\n",
       "      <td>Yes</td>\n",
       "      <td>Private</td>\n",
       "      <td>Urban</td>\n",
       "      <td>87.96</td>\n",
       "      <td>39.2</td>\n",
       "      <td>never smoked</td>\n",
       "      <td>0</td>\n",
       "    </tr>\n",
       "    <tr>\n",
       "      <th>2</th>\n",
       "      <td>16523</td>\n",
       "      <td>Female</td>\n",
       "      <td>8.0</td>\n",
       "      <td>0</td>\n",
       "      <td>0</td>\n",
       "      <td>No</td>\n",
       "      <td>Private</td>\n",
       "      <td>Urban</td>\n",
       "      <td>110.89</td>\n",
       "      <td>17.6</td>\n",
       "      <td>NaN</td>\n",
       "      <td>0</td>\n",
       "    </tr>\n",
       "    <tr>\n",
       "      <th>3</th>\n",
       "      <td>56543</td>\n",
       "      <td>Female</td>\n",
       "      <td>70.0</td>\n",
       "      <td>0</td>\n",
       "      <td>0</td>\n",
       "      <td>Yes</td>\n",
       "      <td>Private</td>\n",
       "      <td>Rural</td>\n",
       "      <td>69.04</td>\n",
       "      <td>35.9</td>\n",
       "      <td>formerly smoked</td>\n",
       "      <td>0</td>\n",
       "    </tr>\n",
       "    <tr>\n",
       "      <th>4</th>\n",
       "      <td>46136</td>\n",
       "      <td>Male</td>\n",
       "      <td>14.0</td>\n",
       "      <td>0</td>\n",
       "      <td>0</td>\n",
       "      <td>No</td>\n",
       "      <td>Never_worked</td>\n",
       "      <td>Rural</td>\n",
       "      <td>161.28</td>\n",
       "      <td>19.1</td>\n",
       "      <td>NaN</td>\n",
       "      <td>0</td>\n",
       "    </tr>\n",
       "  </tbody>\n",
       "</table>\n",
       "</div>"
      ],
      "text/plain": [
       "      id  gender   age  hypertension  heart_disease ever_married  \\\n",
       "0  30669    Male   3.0             0              0           No   \n",
       "1  30468    Male  58.0             1              0          Yes   \n",
       "2  16523  Female   8.0             0              0           No   \n",
       "3  56543  Female  70.0             0              0          Yes   \n",
       "4  46136    Male  14.0             0              0           No   \n",
       "\n",
       "      work_type Residence_type  avg_glucose_level   bmi   smoking_status  \\\n",
       "0      children          Rural              95.12  18.0              NaN   \n",
       "1       Private          Urban              87.96  39.2     never smoked   \n",
       "2       Private          Urban             110.89  17.6              NaN   \n",
       "3       Private          Rural              69.04  35.9  formerly smoked   \n",
       "4  Never_worked          Rural             161.28  19.1              NaN   \n",
       "\n",
       "   stroke  \n",
       "0       0  \n",
       "1       0  \n",
       "2       0  \n",
       "3       0  \n",
       "4       0  "
      ]
     },
     "execution_count": 31,
     "metadata": {},
     "output_type": "execute_result"
    }
   ],
   "source": [
    "#Load the stroke prediction Dataset\n",
    "stroke_data = pd.read_csv('stroke prediction.csv')\n",
    "stroke_data.head()"
   ]
  },
  {
   "cell_type": "code",
   "execution_count": 32,
   "id": "5e7c9227",
   "metadata": {},
   "outputs": [
    {
     "data": {
      "text/plain": [
       "id                       0\n",
       "gender                   0\n",
       "age                      0\n",
       "hypertension             0\n",
       "heart_disease            0\n",
       "ever_married             0\n",
       "work_type                0\n",
       "Residence_type           0\n",
       "avg_glucose_level        0\n",
       "bmi                   1462\n",
       "smoking_status       13292\n",
       "stroke                   0\n",
       "dtype: int64"
      ]
     },
     "execution_count": 32,
     "metadata": {},
     "output_type": "execute_result"
    }
   ],
   "source": [
    "stroke_data.isnull().sum()"
   ]
  },
  {
   "cell_type": "code",
   "execution_count": 33,
   "id": "e54c60dd",
   "metadata": {},
   "outputs": [],
   "source": [
    "stroke_data[\"smoking_status_NA\"]=stroke_data[\"smoking_status\"].isnull()*1"
   ]
  },
  {
   "cell_type": "code",
   "execution_count": 34,
   "id": "f006a2ea",
   "metadata": {},
   "outputs": [
    {
     "data": {
      "text/html": [
       "<div>\n",
       "<style scoped>\n",
       "    .dataframe tbody tr th:only-of-type {\n",
       "        vertical-align: middle;\n",
       "    }\n",
       "\n",
       "    .dataframe tbody tr th {\n",
       "        vertical-align: top;\n",
       "    }\n",
       "\n",
       "    .dataframe thead th {\n",
       "        text-align: right;\n",
       "    }\n",
       "</style>\n",
       "<table border=\"1\" class=\"dataframe\">\n",
       "  <thead>\n",
       "    <tr style=\"text-align: right;\">\n",
       "      <th></th>\n",
       "      <th>smoking_status_NA</th>\n",
       "      <th>smoking_status</th>\n",
       "    </tr>\n",
       "  </thead>\n",
       "  <tbody>\n",
       "    <tr>\n",
       "      <th>0</th>\n",
       "      <td>1</td>\n",
       "      <td>NaN</td>\n",
       "    </tr>\n",
       "    <tr>\n",
       "      <th>1</th>\n",
       "      <td>0</td>\n",
       "      <td>never smoked</td>\n",
       "    </tr>\n",
       "    <tr>\n",
       "      <th>2</th>\n",
       "      <td>1</td>\n",
       "      <td>NaN</td>\n",
       "    </tr>\n",
       "    <tr>\n",
       "      <th>3</th>\n",
       "      <td>0</td>\n",
       "      <td>formerly smoked</td>\n",
       "    </tr>\n",
       "    <tr>\n",
       "      <th>4</th>\n",
       "      <td>1</td>\n",
       "      <td>NaN</td>\n",
       "    </tr>\n",
       "  </tbody>\n",
       "</table>\n",
       "</div>"
      ],
      "text/plain": [
       "   smoking_status_NA   smoking_status\n",
       "0                  1              NaN\n",
       "1                  0     never smoked\n",
       "2                  1              NaN\n",
       "3                  0  formerly smoked\n",
       "4                  1              NaN"
      ]
     },
     "execution_count": 34,
     "metadata": {},
     "output_type": "execute_result"
    }
   ],
   "source": [
    "stroke_data[['smoking_status_NA', 'smoking_status']].head()"
   ]
  },
  {
   "cell_type": "code",
   "execution_count": null,
   "id": "b92994b7",
   "metadata": {},
   "outputs": [],
   "source": []
  },
  {
   "cell_type": "markdown",
   "id": "0a50db74",
   "metadata": {},
   "source": [
    "# 8. FREQUENCY ENCODING"
   ]
  },
  {
   "cell_type": "code",
   "execution_count": 35,
   "id": "b4b679e7",
   "metadata": {},
   "outputs": [
    {
     "data": {
      "text/html": [
       "<div>\n",
       "<style scoped>\n",
       "    .dataframe tbody tr th:only-of-type {\n",
       "        vertical-align: middle;\n",
       "    }\n",
       "\n",
       "    .dataframe tbody tr th {\n",
       "        vertical-align: top;\n",
       "    }\n",
       "\n",
       "    .dataframe thead th {\n",
       "        text-align: right;\n",
       "    }\n",
       "</style>\n",
       "<table border=\"1\" class=\"dataframe\">\n",
       "  <thead>\n",
       "    <tr style=\"text-align: right;\">\n",
       "      <th></th>\n",
       "      <th>Item_Identifier</th>\n",
       "      <th>Item_Weight</th>\n",
       "      <th>Item_Fat_Content</th>\n",
       "      <th>Item_Visibility</th>\n",
       "      <th>Item_Type</th>\n",
       "      <th>Item_MRP</th>\n",
       "      <th>Outlet_Identifier</th>\n",
       "      <th>Outlet_Establishment_Year</th>\n",
       "      <th>Outlet_Size</th>\n",
       "      <th>Outlet_Location_Type</th>\n",
       "      <th>Outlet_Type</th>\n",
       "      <th>Item_Outlet_Sales</th>\n",
       "    </tr>\n",
       "  </thead>\n",
       "  <tbody>\n",
       "    <tr>\n",
       "      <th>0</th>\n",
       "      <td>FDA15</td>\n",
       "      <td>9.30</td>\n",
       "      <td>Low Fat</td>\n",
       "      <td>0.016047</td>\n",
       "      <td>Dairy</td>\n",
       "      <td>249.8092</td>\n",
       "      <td>OUT049</td>\n",
       "      <td>1999</td>\n",
       "      <td>Medium</td>\n",
       "      <td>Tier 1</td>\n",
       "      <td>Supermarket Type1</td>\n",
       "      <td>3735.1380</td>\n",
       "    </tr>\n",
       "    <tr>\n",
       "      <th>1</th>\n",
       "      <td>DRC01</td>\n",
       "      <td>5.92</td>\n",
       "      <td>Regular</td>\n",
       "      <td>0.019278</td>\n",
       "      <td>Soft Drinks</td>\n",
       "      <td>48.2692</td>\n",
       "      <td>OUT018</td>\n",
       "      <td>2009</td>\n",
       "      <td>Medium</td>\n",
       "      <td>Tier 3</td>\n",
       "      <td>Supermarket Type2</td>\n",
       "      <td>443.4228</td>\n",
       "    </tr>\n",
       "    <tr>\n",
       "      <th>2</th>\n",
       "      <td>FDN15</td>\n",
       "      <td>17.50</td>\n",
       "      <td>Low Fat</td>\n",
       "      <td>0.016760</td>\n",
       "      <td>Meat</td>\n",
       "      <td>141.6180</td>\n",
       "      <td>OUT049</td>\n",
       "      <td>1999</td>\n",
       "      <td>Medium</td>\n",
       "      <td>Tier 1</td>\n",
       "      <td>Supermarket Type1</td>\n",
       "      <td>2097.2700</td>\n",
       "    </tr>\n",
       "    <tr>\n",
       "      <th>3</th>\n",
       "      <td>FDX07</td>\n",
       "      <td>19.20</td>\n",
       "      <td>Regular</td>\n",
       "      <td>0.000000</td>\n",
       "      <td>Fruits and Vegetables</td>\n",
       "      <td>182.0950</td>\n",
       "      <td>OUT010</td>\n",
       "      <td>1998</td>\n",
       "      <td>NaN</td>\n",
       "      <td>Tier 3</td>\n",
       "      <td>Grocery Store</td>\n",
       "      <td>732.3800</td>\n",
       "    </tr>\n",
       "    <tr>\n",
       "      <th>4</th>\n",
       "      <td>NCD19</td>\n",
       "      <td>8.93</td>\n",
       "      <td>Low Fat</td>\n",
       "      <td>0.000000</td>\n",
       "      <td>Household</td>\n",
       "      <td>53.8614</td>\n",
       "      <td>OUT013</td>\n",
       "      <td>1987</td>\n",
       "      <td>High</td>\n",
       "      <td>Tier 3</td>\n",
       "      <td>Supermarket Type1</td>\n",
       "      <td>994.7052</td>\n",
       "    </tr>\n",
       "  </tbody>\n",
       "</table>\n",
       "</div>"
      ],
      "text/plain": [
       "  Item_Identifier  Item_Weight Item_Fat_Content  Item_Visibility  \\\n",
       "0           FDA15         9.30          Low Fat         0.016047   \n",
       "1           DRC01         5.92          Regular         0.019278   \n",
       "2           FDN15        17.50          Low Fat         0.016760   \n",
       "3           FDX07        19.20          Regular         0.000000   \n",
       "4           NCD19         8.93          Low Fat         0.000000   \n",
       "\n",
       "               Item_Type  Item_MRP Outlet_Identifier  \\\n",
       "0                  Dairy  249.8092            OUT049   \n",
       "1            Soft Drinks   48.2692            OUT018   \n",
       "2                   Meat  141.6180            OUT049   \n",
       "3  Fruits and Vegetables  182.0950            OUT010   \n",
       "4              Household   53.8614            OUT013   \n",
       "\n",
       "   Outlet_Establishment_Year Outlet_Size Outlet_Location_Type  \\\n",
       "0                       1999      Medium               Tier 1   \n",
       "1                       2009      Medium               Tier 3   \n",
       "2                       1999      Medium               Tier 1   \n",
       "3                       1998         NaN               Tier 3   \n",
       "4                       1987        High               Tier 3   \n",
       "\n",
       "         Outlet_Type  Item_Outlet_Sales  \n",
       "0  Supermarket Type1          3735.1380  \n",
       "1  Supermarket Type2           443.4228  \n",
       "2  Supermarket Type1          2097.2700  \n",
       "3      Grocery Store           732.3800  \n",
       "4  Supermarket Type1           994.7052  "
      ]
     },
     "execution_count": 35,
     "metadata": {},
     "output_type": "execute_result"
    }
   ],
   "source": [
    "bigmart= pd.read_csv('train_bm.csv')\n",
    "bigmart.head()"
   ]
  },
  {
   "cell_type": "code",
   "execution_count": 36,
   "id": "e875bb82",
   "metadata": {},
   "outputs": [
    {
     "data": {
      "text/plain": [
       "Fruits and Vegetables    1232\n",
       "Snack Foods              1200\n",
       "Household                 910\n",
       "Frozen Foods              856\n",
       "Dairy                     682\n",
       "Canned                    649\n",
       "Baking Goods              648\n",
       "Health and Hygiene        520\n",
       "Soft Drinks               445\n",
       "Meat                      425\n",
       "Breads                    251\n",
       "Hard Drinks               214\n",
       "Others                    169\n",
       "Starchy Foods             148\n",
       "Breakfast                 110\n",
       "Seafood                    64\n",
       "Name: Item_Type, dtype: int64"
      ]
     },
     "execution_count": 36,
     "metadata": {},
     "output_type": "execute_result"
    }
   ],
   "source": [
    "bigmart['Item_Type'].value_counts()"
   ]
  },
  {
   "cell_type": "markdown",
   "id": "c60cbfbe",
   "metadata": {},
   "source": [
    "##### Frrequency Encoding"
   ]
  },
  {
   "cell_type": "code",
   "execution_count": 37,
   "id": "f9111ed3",
   "metadata": {},
   "outputs": [
    {
     "data": {
      "text/plain": [
       "Fruits and Vegetables    1232\n",
       "Snack Foods              1200\n",
       "Household                 910\n",
       "Frozen Foods              856\n",
       "Dairy                     682\n",
       "Name: Item_Type, dtype: int64"
      ]
     },
     "execution_count": 37,
     "metadata": {},
     "output_type": "execute_result"
    }
   ],
   "source": [
    "temp = bigmart['Item_Type'].value_counts()\n",
    "temp.head()"
   ]
  },
  {
   "cell_type": "code",
   "execution_count": 38,
   "id": "61011350",
   "metadata": {},
   "outputs": [
    {
     "data": {
      "text/html": [
       "<div>\n",
       "<style scoped>\n",
       "    .dataframe tbody tr th:only-of-type {\n",
       "        vertical-align: middle;\n",
       "    }\n",
       "\n",
       "    .dataframe tbody tr th {\n",
       "        vertical-align: top;\n",
       "    }\n",
       "\n",
       "    .dataframe thead th {\n",
       "        text-align: right;\n",
       "    }\n",
       "</style>\n",
       "<table border=\"1\" class=\"dataframe\">\n",
       "  <thead>\n",
       "    <tr style=\"text-align: right;\">\n",
       "      <th></th>\n",
       "      <th>Item_Identifier</th>\n",
       "      <th>Item_Type</th>\n",
       "      <th>Item_type_count</th>\n",
       "    </tr>\n",
       "  </thead>\n",
       "  <tbody>\n",
       "    <tr>\n",
       "      <th>0</th>\n",
       "      <td>FDA15</td>\n",
       "      <td>Dairy</td>\n",
       "      <td>682</td>\n",
       "    </tr>\n",
       "    <tr>\n",
       "      <th>1</th>\n",
       "      <td>DRC01</td>\n",
       "      <td>Soft Drinks</td>\n",
       "      <td>445</td>\n",
       "    </tr>\n",
       "    <tr>\n",
       "      <th>2</th>\n",
       "      <td>FDN15</td>\n",
       "      <td>Meat</td>\n",
       "      <td>425</td>\n",
       "    </tr>\n",
       "    <tr>\n",
       "      <th>3</th>\n",
       "      <td>FDX07</td>\n",
       "      <td>Fruits and Vegetables</td>\n",
       "      <td>1232</td>\n",
       "    </tr>\n",
       "    <tr>\n",
       "      <th>4</th>\n",
       "      <td>NCD19</td>\n",
       "      <td>Household</td>\n",
       "      <td>910</td>\n",
       "    </tr>\n",
       "  </tbody>\n",
       "</table>\n",
       "</div>"
      ],
      "text/plain": [
       "  Item_Identifier              Item_Type  Item_type_count\n",
       "0           FDA15                  Dairy              682\n",
       "1           DRC01            Soft Drinks              445\n",
       "2           FDN15                   Meat              425\n",
       "3           FDX07  Fruits and Vegetables             1232\n",
       "4           NCD19              Household              910"
      ]
     },
     "execution_count": 38,
     "metadata": {},
     "output_type": "execute_result"
    }
   ],
   "source": [
    "bigmart['Item_type_count'] = bigmart['Item_Type'].apply(lambda x: temp[x])\n",
    "bigmart[['Item_Identifier', 'Item_Type', 'Item_type_count']].head()"
   ]
  },
  {
   "cell_type": "markdown",
   "id": "34434bf8",
   "metadata": {},
   "source": [
    "##### Mean Encoding (using Target Variable)"
   ]
  },
  {
   "cell_type": "code",
   "execution_count": 39,
   "id": "9aa157a6",
   "metadata": {},
   "outputs": [
    {
     "data": {
      "text/html": [
       "<div>\n",
       "<style scoped>\n",
       "    .dataframe tbody tr th:only-of-type {\n",
       "        vertical-align: middle;\n",
       "    }\n",
       "\n",
       "    .dataframe tbody tr th {\n",
       "        vertical-align: top;\n",
       "    }\n",
       "\n",
       "    .dataframe thead th {\n",
       "        text-align: right;\n",
       "    }\n",
       "</style>\n",
       "<table border=\"1\" class=\"dataframe\">\n",
       "  <thead>\n",
       "    <tr style=\"text-align: right;\">\n",
       "      <th></th>\n",
       "      <th>Item_Type</th>\n",
       "      <th>Item_Outlet_Sales</th>\n",
       "    </tr>\n",
       "  </thead>\n",
       "  <tbody>\n",
       "    <tr>\n",
       "      <th>0</th>\n",
       "      <td>Dairy</td>\n",
       "      <td>3735.1380</td>\n",
       "    </tr>\n",
       "    <tr>\n",
       "      <th>1</th>\n",
       "      <td>Soft Drinks</td>\n",
       "      <td>443.4228</td>\n",
       "    </tr>\n",
       "    <tr>\n",
       "      <th>2</th>\n",
       "      <td>Meat</td>\n",
       "      <td>2097.2700</td>\n",
       "    </tr>\n",
       "    <tr>\n",
       "      <th>3</th>\n",
       "      <td>Fruits and Vegetables</td>\n",
       "      <td>732.3800</td>\n",
       "    </tr>\n",
       "    <tr>\n",
       "      <th>4</th>\n",
       "      <td>Household</td>\n",
       "      <td>994.7052</td>\n",
       "    </tr>\n",
       "  </tbody>\n",
       "</table>\n",
       "</div>"
      ],
      "text/plain": [
       "               Item_Type  Item_Outlet_Sales\n",
       "0                  Dairy          3735.1380\n",
       "1            Soft Drinks           443.4228\n",
       "2                   Meat          2097.2700\n",
       "3  Fruits and Vegetables           732.3800\n",
       "4              Household           994.7052"
      ]
     },
     "execution_count": 39,
     "metadata": {},
     "output_type": "execute_result"
    }
   ],
   "source": [
    "bigmart[['Item_Type', 'Item_Outlet_Sales']].head()"
   ]
  },
  {
   "cell_type": "code",
   "execution_count": 40,
   "id": "4220ce3f",
   "metadata": {},
   "outputs": [
    {
     "data": {
      "text/plain": [
       "Item_Type\n",
       "Baking Goods             1952.971207\n",
       "Breads                   2204.132226\n",
       "Breakfast                2111.808651\n",
       "Canned                   2225.194904\n",
       "Dairy                    2232.542597\n",
       "Frozen Foods             2132.867744\n",
       "Fruits and Vegetables    2289.009592\n",
       "Hard Drinks              2139.221622\n",
       "Health and Hygiene       2010.000265\n",
       "Household                2258.784300\n",
       "Meat                     2158.977911\n",
       "Others                   1926.139702\n",
       "Seafood                  2326.065928\n",
       "Snack Foods              2277.321739\n",
       "Soft Drinks              2006.511735\n",
       "Starchy Foods            2374.332773\n",
       "Name: Item_Outlet_Sales, dtype: float64"
      ]
     },
     "execution_count": 40,
     "metadata": {},
     "output_type": "execute_result"
    }
   ],
   "source": [
    "bigmart.groupby('Item_Type')['Item_Outlet_Sales'].mean()"
   ]
  },
  {
   "cell_type": "code",
   "execution_count": null,
   "id": "d3b51269",
   "metadata": {},
   "outputs": [],
   "source": []
  },
  {
   "cell_type": "markdown",
   "id": "cd693bd9",
   "metadata": {},
   "source": [
    "# 9. FEATURE TOOLS\n",
    "Featuretools Installation\n",
    "Before Running this notebook, you would need to install featuretools in your system. \n",
    "\n",
    "Use the following command:\n",
    "!pip install featuretools"
   ]
  },
  {
   "cell_type": "code",
   "execution_count": 48,
   "id": "a59e19ce",
   "metadata": {},
   "outputs": [],
   "source": [
    "import featuretools as ft"
   ]
  },
  {
   "cell_type": "code",
   "execution_count": 41,
   "id": "f34df226",
   "metadata": {},
   "outputs": [
    {
     "data": {
      "text/plain": [
       "(8523, 12)"
      ]
     },
     "execution_count": 41,
     "metadata": {},
     "output_type": "execute_result"
    }
   ],
   "source": [
    "df = pd.read_csv('train_bm.csv')\n",
    "df.shape"
   ]
  },
  {
   "cell_type": "code",
   "execution_count": 46,
   "id": "ba5e5b3f",
   "metadata": {},
   "outputs": [],
   "source": [
    "features = df.drop('Item_Outlet_Sales', axis=1)\n",
    "y = df['Item_Outlet_Sales']"
   ]
  },
  {
   "cell_type": "markdown",
   "id": "158f6d24",
   "metadata": {},
   "source": [
    "##### Make an entityset and add the entity"
   ]
  },
  {
   "cell_type": "code",
   "execution_count": 49,
   "id": "1c08275c",
   "metadata": {},
   "outputs": [
    {
     "data": {
      "text/plain": [
       "Entityset: bigmart\n",
       "  Entities:\n",
       "  Relationships:\n",
       "    No relationships"
      ]
     },
     "execution_count": 49,
     "metadata": {},
     "output_type": "execute_result"
    }
   ],
   "source": [
    "es = ft.EntitySet(id = 'bigmart')\n",
    "es"
   ]
  },
  {
   "cell_type": "markdown",
   "id": "06e789a3",
   "metadata": {},
   "source": [
    "##### Add data to this entityset created"
   ]
  },
  {
   "cell_type": "code",
   "execution_count": 50,
   "id": "c6fb1ffe",
   "metadata": {},
   "outputs": [
    {
     "data": {
      "text/plain": [
       "Entityset: bigmart\n",
       "  Entities:\n",
       "    data_1 [Rows: 8523, Columns: 12]\n",
       "  Relationships:\n",
       "    No relationships"
      ]
     },
     "execution_count": 50,
     "metadata": {},
     "output_type": "execute_result"
    }
   ],
   "source": [
    "es.entity_from_dataframe(entity_id = 'data_1', dataframe = features, \n",
    "                         make_index = True, index = 'index')\n",
    "\n",
    "es"
   ]
  },
  {
   "cell_type": "code",
   "execution_count": 51,
   "id": "804a4b66",
   "metadata": {},
   "outputs": [
    {
     "data": {
      "text/html": [
       "<div>\n",
       "<style scoped>\n",
       "    .dataframe tbody tr th:only-of-type {\n",
       "        vertical-align: middle;\n",
       "    }\n",
       "\n",
       "    .dataframe tbody tr th {\n",
       "        vertical-align: top;\n",
       "    }\n",
       "\n",
       "    .dataframe thead th {\n",
       "        text-align: right;\n",
       "    }\n",
       "</style>\n",
       "<table border=\"1\" class=\"dataframe\">\n",
       "  <thead>\n",
       "    <tr style=\"text-align: right;\">\n",
       "      <th></th>\n",
       "      <th>Item_Identifier</th>\n",
       "      <th>Item_Weight</th>\n",
       "      <th>Item_Fat_Content</th>\n",
       "      <th>Item_Visibility</th>\n",
       "      <th>Item_Type</th>\n",
       "      <th>Item_MRP</th>\n",
       "      <th>Outlet_Identifier</th>\n",
       "      <th>Outlet_Establishment_Year</th>\n",
       "      <th>Outlet_Size</th>\n",
       "      <th>Outlet_Location_Type</th>\n",
       "      <th>...</th>\n",
       "      <th>Item_MRP + Outlet_Establishment_Year</th>\n",
       "      <th>Item_Visibility + Item_Weight</th>\n",
       "      <th>Item_Visibility + Outlet_Establishment_Year</th>\n",
       "      <th>Item_Weight + Outlet_Establishment_Year</th>\n",
       "      <th>Item_MRP * Item_Visibility</th>\n",
       "      <th>Item_MRP * Item_Weight</th>\n",
       "      <th>Item_MRP * Outlet_Establishment_Year</th>\n",
       "      <th>Item_Visibility * Item_Weight</th>\n",
       "      <th>Item_Visibility * Outlet_Establishment_Year</th>\n",
       "      <th>Item_Weight * Outlet_Establishment_Year</th>\n",
       "    </tr>\n",
       "    <tr>\n",
       "      <th>index</th>\n",
       "      <th></th>\n",
       "      <th></th>\n",
       "      <th></th>\n",
       "      <th></th>\n",
       "      <th></th>\n",
       "      <th></th>\n",
       "      <th></th>\n",
       "      <th></th>\n",
       "      <th></th>\n",
       "      <th></th>\n",
       "      <th></th>\n",
       "      <th></th>\n",
       "      <th></th>\n",
       "      <th></th>\n",
       "      <th></th>\n",
       "      <th></th>\n",
       "      <th></th>\n",
       "      <th></th>\n",
       "      <th></th>\n",
       "      <th></th>\n",
       "      <th></th>\n",
       "    </tr>\n",
       "  </thead>\n",
       "  <tbody>\n",
       "    <tr>\n",
       "      <th>0</th>\n",
       "      <td>FDA15</td>\n",
       "      <td>9.30</td>\n",
       "      <td>Low Fat</td>\n",
       "      <td>0.016047</td>\n",
       "      <td>Dairy</td>\n",
       "      <td>249.8092</td>\n",
       "      <td>OUT049</td>\n",
       "      <td>1999</td>\n",
       "      <td>Medium</td>\n",
       "      <td>Tier 1</td>\n",
       "      <td>...</td>\n",
       "      <td>2248.8092</td>\n",
       "      <td>9.316047</td>\n",
       "      <td>1999.016047</td>\n",
       "      <td>2008.30</td>\n",
       "      <td>4.008763</td>\n",
       "      <td>2323.225560</td>\n",
       "      <td>499368.5908</td>\n",
       "      <td>0.149240</td>\n",
       "      <td>32.078555</td>\n",
       "      <td>18590.70</td>\n",
       "    </tr>\n",
       "    <tr>\n",
       "      <th>1</th>\n",
       "      <td>DRC01</td>\n",
       "      <td>5.92</td>\n",
       "      <td>Regular</td>\n",
       "      <td>0.019278</td>\n",
       "      <td>Soft Drinks</td>\n",
       "      <td>48.2692</td>\n",
       "      <td>OUT018</td>\n",
       "      <td>2009</td>\n",
       "      <td>Medium</td>\n",
       "      <td>Tier 3</td>\n",
       "      <td>...</td>\n",
       "      <td>2057.2692</td>\n",
       "      <td>5.939278</td>\n",
       "      <td>2009.019278</td>\n",
       "      <td>2014.92</td>\n",
       "      <td>0.930544</td>\n",
       "      <td>285.753664</td>\n",
       "      <td>96972.8228</td>\n",
       "      <td>0.114127</td>\n",
       "      <td>38.729936</td>\n",
       "      <td>11893.28</td>\n",
       "    </tr>\n",
       "    <tr>\n",
       "      <th>2</th>\n",
       "      <td>FDN15</td>\n",
       "      <td>17.50</td>\n",
       "      <td>Low Fat</td>\n",
       "      <td>0.016760</td>\n",
       "      <td>Meat</td>\n",
       "      <td>141.6180</td>\n",
       "      <td>OUT049</td>\n",
       "      <td>1999</td>\n",
       "      <td>Medium</td>\n",
       "      <td>Tier 1</td>\n",
       "      <td>...</td>\n",
       "      <td>2140.6180</td>\n",
       "      <td>17.516760</td>\n",
       "      <td>1999.016760</td>\n",
       "      <td>2016.50</td>\n",
       "      <td>2.373528</td>\n",
       "      <td>2478.315000</td>\n",
       "      <td>283094.3820</td>\n",
       "      <td>0.293301</td>\n",
       "      <td>33.503390</td>\n",
       "      <td>34982.50</td>\n",
       "    </tr>\n",
       "    <tr>\n",
       "      <th>3</th>\n",
       "      <td>FDX07</td>\n",
       "      <td>19.20</td>\n",
       "      <td>Regular</td>\n",
       "      <td>0.000000</td>\n",
       "      <td>Fruits and Vegetables</td>\n",
       "      <td>182.0950</td>\n",
       "      <td>OUT010</td>\n",
       "      <td>1998</td>\n",
       "      <td>NaN</td>\n",
       "      <td>Tier 3</td>\n",
       "      <td>...</td>\n",
       "      <td>2180.0950</td>\n",
       "      <td>19.200000</td>\n",
       "      <td>1998.000000</td>\n",
       "      <td>2017.20</td>\n",
       "      <td>0.000000</td>\n",
       "      <td>3496.224000</td>\n",
       "      <td>363825.8100</td>\n",
       "      <td>0.000000</td>\n",
       "      <td>0.000000</td>\n",
       "      <td>38361.60</td>\n",
       "    </tr>\n",
       "    <tr>\n",
       "      <th>4</th>\n",
       "      <td>NCD19</td>\n",
       "      <td>8.93</td>\n",
       "      <td>Low Fat</td>\n",
       "      <td>0.000000</td>\n",
       "      <td>Household</td>\n",
       "      <td>53.8614</td>\n",
       "      <td>OUT013</td>\n",
       "      <td>1987</td>\n",
       "      <td>High</td>\n",
       "      <td>Tier 3</td>\n",
       "      <td>...</td>\n",
       "      <td>2040.8614</td>\n",
       "      <td>8.930000</td>\n",
       "      <td>1987.000000</td>\n",
       "      <td>1995.93</td>\n",
       "      <td>0.000000</td>\n",
       "      <td>480.982302</td>\n",
       "      <td>107022.6018</td>\n",
       "      <td>0.000000</td>\n",
       "      <td>0.000000</td>\n",
       "      <td>17743.91</td>\n",
       "    </tr>\n",
       "  </tbody>\n",
       "</table>\n",
       "<p>5 rows × 23 columns</p>\n",
       "</div>"
      ],
      "text/plain": [
       "      Item_Identifier  Item_Weight Item_Fat_Content  Item_Visibility  \\\n",
       "index                                                                  \n",
       "0               FDA15         9.30          Low Fat         0.016047   \n",
       "1               DRC01         5.92          Regular         0.019278   \n",
       "2               FDN15        17.50          Low Fat         0.016760   \n",
       "3               FDX07        19.20          Regular         0.000000   \n",
       "4               NCD19         8.93          Low Fat         0.000000   \n",
       "\n",
       "                   Item_Type  Item_MRP Outlet_Identifier  \\\n",
       "index                                                      \n",
       "0                      Dairy  249.8092            OUT049   \n",
       "1                Soft Drinks   48.2692            OUT018   \n",
       "2                       Meat  141.6180            OUT049   \n",
       "3      Fruits and Vegetables  182.0950            OUT010   \n",
       "4                  Household   53.8614            OUT013   \n",
       "\n",
       "       Outlet_Establishment_Year Outlet_Size Outlet_Location_Type  ...  \\\n",
       "index                                                              ...   \n",
       "0                           1999      Medium               Tier 1  ...   \n",
       "1                           2009      Medium               Tier 3  ...   \n",
       "2                           1999      Medium               Tier 1  ...   \n",
       "3                           1998         NaN               Tier 3  ...   \n",
       "4                           1987        High               Tier 3  ...   \n",
       "\n",
       "      Item_MRP + Outlet_Establishment_Year  Item_Visibility + Item_Weight  \\\n",
       "index                                                                       \n",
       "0                                2248.8092                       9.316047   \n",
       "1                                2057.2692                       5.939278   \n",
       "2                                2140.6180                      17.516760   \n",
       "3                                2180.0950                      19.200000   \n",
       "4                                2040.8614                       8.930000   \n",
       "\n",
       "       Item_Visibility + Outlet_Establishment_Year  \\\n",
       "index                                                \n",
       "0                                      1999.016047   \n",
       "1                                      2009.019278   \n",
       "2                                      1999.016760   \n",
       "3                                      1998.000000   \n",
       "4                                      1987.000000   \n",
       "\n",
       "       Item_Weight + Outlet_Establishment_Year  Item_MRP * Item_Visibility  \\\n",
       "index                                                                        \n",
       "0                                      2008.30                    4.008763   \n",
       "1                                      2014.92                    0.930544   \n",
       "2                                      2016.50                    2.373528   \n",
       "3                                      2017.20                    0.000000   \n",
       "4                                      1995.93                    0.000000   \n",
       "\n",
       "       Item_MRP * Item_Weight  Item_MRP * Outlet_Establishment_Year  \\\n",
       "index                                                                 \n",
       "0                 2323.225560                           499368.5908   \n",
       "1                  285.753664                            96972.8228   \n",
       "2                 2478.315000                           283094.3820   \n",
       "3                 3496.224000                           363825.8100   \n",
       "4                  480.982302                           107022.6018   \n",
       "\n",
       "       Item_Visibility * Item_Weight  \\\n",
       "index                                  \n",
       "0                           0.149240   \n",
       "1                           0.114127   \n",
       "2                           0.293301   \n",
       "3                           0.000000   \n",
       "4                           0.000000   \n",
       "\n",
       "       Item_Visibility * Outlet_Establishment_Year  \\\n",
       "index                                                \n",
       "0                                        32.078555   \n",
       "1                                        38.729936   \n",
       "2                                        33.503390   \n",
       "3                                         0.000000   \n",
       "4                                         0.000000   \n",
       "\n",
       "       Item_Weight * Outlet_Establishment_Year  \n",
       "index                                           \n",
       "0                                     18590.70  \n",
       "1                                     11893.28  \n",
       "2                                     34982.50  \n",
       "3                                     38361.60  \n",
       "4                                     17743.91  \n",
       "\n",
       "[5 rows x 23 columns]"
      ]
     },
     "execution_count": 51,
     "metadata": {},
     "output_type": "execute_result"
    }
   ],
   "source": [
    "#Feature Engineering\n",
    "# Run deep feature synthesis with transformation primitives\n",
    "feature_matrix, feature_defs = ft.dfs(entityset = es, target_entity = 'data_1', max_depth=1,\n",
    "                                      trans_primitives = ['add_numeric', 'multiply_numeric'])\n",
    "\n",
    "feature_matrix.head()"
   ]
  },
  {
   "cell_type": "code",
   "execution_count": 52,
   "id": "f45712dd",
   "metadata": {},
   "outputs": [
    {
     "data": {
      "text/plain": [
       "[<Feature: Item_Identifier>,\n",
       " <Feature: Item_Weight>,\n",
       " <Feature: Item_Fat_Content>,\n",
       " <Feature: Item_Visibility>,\n",
       " <Feature: Item_Type>,\n",
       " <Feature: Item_MRP>,\n",
       " <Feature: Outlet_Identifier>,\n",
       " <Feature: Outlet_Establishment_Year>,\n",
       " <Feature: Outlet_Size>,\n",
       " <Feature: Outlet_Location_Type>,\n",
       " <Feature: Outlet_Type>,\n",
       " <Feature: Item_MRP + Item_Visibility>,\n",
       " <Feature: Item_MRP + Item_Weight>,\n",
       " <Feature: Item_MRP + Outlet_Establishment_Year>,\n",
       " <Feature: Item_Visibility + Item_Weight>,\n",
       " <Feature: Item_Visibility + Outlet_Establishment_Year>,\n",
       " <Feature: Item_Weight + Outlet_Establishment_Year>,\n",
       " <Feature: Item_MRP * Item_Visibility>,\n",
       " <Feature: Item_MRP * Item_Weight>,\n",
       " <Feature: Item_MRP * Outlet_Establishment_Year>,\n",
       " <Feature: Item_Visibility * Item_Weight>,\n",
       " <Feature: Item_Visibility * Outlet_Establishment_Year>,\n",
       " <Feature: Item_Weight * Outlet_Establishment_Year>]"
      ]
     },
     "execution_count": 52,
     "metadata": {},
     "output_type": "execute_result"
    }
   ],
   "source": [
    "feature_defs"
   ]
  },
  {
   "cell_type": "code",
   "execution_count": 53,
   "id": "7f9fad87",
   "metadata": {},
   "outputs": [
    {
     "data": {
      "text/plain": [
       "(8523, 23)"
      ]
     },
     "execution_count": 53,
     "metadata": {},
     "output_type": "execute_result"
    }
   ],
   "source": [
    "feature_matrix.shape"
   ]
  },
  {
   "cell_type": "code",
   "execution_count": 54,
   "id": "eb3c82f6",
   "metadata": {},
   "outputs": [
    {
     "data": {
      "text/html": [
       "<div>\n",
       "<style scoped>\n",
       "    .dataframe tbody tr th:only-of-type {\n",
       "        vertical-align: middle;\n",
       "    }\n",
       "\n",
       "    .dataframe tbody tr th {\n",
       "        vertical-align: top;\n",
       "    }\n",
       "\n",
       "    .dataframe thead th {\n",
       "        text-align: right;\n",
       "    }\n",
       "</style>\n",
       "<table border=\"1\" class=\"dataframe\">\n",
       "  <thead>\n",
       "    <tr style=\"text-align: right;\">\n",
       "      <th></th>\n",
       "      <th>Item_Identifier</th>\n",
       "      <th>Item_Weight</th>\n",
       "      <th>Item_Fat_Content</th>\n",
       "      <th>Item_Visibility</th>\n",
       "      <th>Item_Type</th>\n",
       "      <th>Item_MRP</th>\n",
       "      <th>Outlet_Identifier</th>\n",
       "      <th>Outlet_Establishment_Year</th>\n",
       "      <th>Outlet_Size</th>\n",
       "      <th>Outlet_Location_Type</th>\n",
       "      <th>...</th>\n",
       "      <th>Item_MRP + Outlet_Establishment_Year</th>\n",
       "      <th>Item_Visibility + Item_Weight</th>\n",
       "      <th>Item_Visibility + Outlet_Establishment_Year</th>\n",
       "      <th>Item_Weight + Outlet_Establishment_Year</th>\n",
       "      <th>Item_MRP * Item_Visibility</th>\n",
       "      <th>Item_MRP * Item_Weight</th>\n",
       "      <th>Item_MRP * Outlet_Establishment_Year</th>\n",
       "      <th>Item_Visibility * Item_Weight</th>\n",
       "      <th>Item_Visibility * Outlet_Establishment_Year</th>\n",
       "      <th>Item_Weight * Outlet_Establishment_Year</th>\n",
       "    </tr>\n",
       "    <tr>\n",
       "      <th>index</th>\n",
       "      <th></th>\n",
       "      <th></th>\n",
       "      <th></th>\n",
       "      <th></th>\n",
       "      <th></th>\n",
       "      <th></th>\n",
       "      <th></th>\n",
       "      <th></th>\n",
       "      <th></th>\n",
       "      <th></th>\n",
       "      <th></th>\n",
       "      <th></th>\n",
       "      <th></th>\n",
       "      <th></th>\n",
       "      <th></th>\n",
       "      <th></th>\n",
       "      <th></th>\n",
       "      <th></th>\n",
       "      <th></th>\n",
       "      <th></th>\n",
       "      <th></th>\n",
       "    </tr>\n",
       "  </thead>\n",
       "  <tbody>\n",
       "    <tr>\n",
       "      <th>0</th>\n",
       "      <td>FDA15</td>\n",
       "      <td>9.30</td>\n",
       "      <td>Low Fat</td>\n",
       "      <td>0.016047</td>\n",
       "      <td>Dairy</td>\n",
       "      <td>249.8092</td>\n",
       "      <td>OUT049</td>\n",
       "      <td>1999</td>\n",
       "      <td>Medium</td>\n",
       "      <td>Tier 1</td>\n",
       "      <td>...</td>\n",
       "      <td>2248.8092</td>\n",
       "      <td>9.316047</td>\n",
       "      <td>1999.016047</td>\n",
       "      <td>2008.30</td>\n",
       "      <td>4.008763</td>\n",
       "      <td>2323.225560</td>\n",
       "      <td>499368.5908</td>\n",
       "      <td>0.149240</td>\n",
       "      <td>32.078555</td>\n",
       "      <td>18590.70</td>\n",
       "    </tr>\n",
       "    <tr>\n",
       "      <th>1</th>\n",
       "      <td>DRC01</td>\n",
       "      <td>5.92</td>\n",
       "      <td>Regular</td>\n",
       "      <td>0.019278</td>\n",
       "      <td>Soft Drinks</td>\n",
       "      <td>48.2692</td>\n",
       "      <td>OUT018</td>\n",
       "      <td>2009</td>\n",
       "      <td>Medium</td>\n",
       "      <td>Tier 3</td>\n",
       "      <td>...</td>\n",
       "      <td>2057.2692</td>\n",
       "      <td>5.939278</td>\n",
       "      <td>2009.019278</td>\n",
       "      <td>2014.92</td>\n",
       "      <td>0.930544</td>\n",
       "      <td>285.753664</td>\n",
       "      <td>96972.8228</td>\n",
       "      <td>0.114127</td>\n",
       "      <td>38.729936</td>\n",
       "      <td>11893.28</td>\n",
       "    </tr>\n",
       "    <tr>\n",
       "      <th>2</th>\n",
       "      <td>FDN15</td>\n",
       "      <td>17.50</td>\n",
       "      <td>Low Fat</td>\n",
       "      <td>0.016760</td>\n",
       "      <td>Meat</td>\n",
       "      <td>141.6180</td>\n",
       "      <td>OUT049</td>\n",
       "      <td>1999</td>\n",
       "      <td>Medium</td>\n",
       "      <td>Tier 1</td>\n",
       "      <td>...</td>\n",
       "      <td>2140.6180</td>\n",
       "      <td>17.516760</td>\n",
       "      <td>1999.016760</td>\n",
       "      <td>2016.50</td>\n",
       "      <td>2.373528</td>\n",
       "      <td>2478.315000</td>\n",
       "      <td>283094.3820</td>\n",
       "      <td>0.293301</td>\n",
       "      <td>33.503390</td>\n",
       "      <td>34982.50</td>\n",
       "    </tr>\n",
       "    <tr>\n",
       "      <th>3</th>\n",
       "      <td>FDX07</td>\n",
       "      <td>19.20</td>\n",
       "      <td>Regular</td>\n",
       "      <td>0.000000</td>\n",
       "      <td>Fruits and Vegetables</td>\n",
       "      <td>182.0950</td>\n",
       "      <td>OUT010</td>\n",
       "      <td>1998</td>\n",
       "      <td>NaN</td>\n",
       "      <td>Tier 3</td>\n",
       "      <td>...</td>\n",
       "      <td>2180.0950</td>\n",
       "      <td>19.200000</td>\n",
       "      <td>1998.000000</td>\n",
       "      <td>2017.20</td>\n",
       "      <td>0.000000</td>\n",
       "      <td>3496.224000</td>\n",
       "      <td>363825.8100</td>\n",
       "      <td>0.000000</td>\n",
       "      <td>0.000000</td>\n",
       "      <td>38361.60</td>\n",
       "    </tr>\n",
       "    <tr>\n",
       "      <th>4</th>\n",
       "      <td>NCD19</td>\n",
       "      <td>8.93</td>\n",
       "      <td>Low Fat</td>\n",
       "      <td>0.000000</td>\n",
       "      <td>Household</td>\n",
       "      <td>53.8614</td>\n",
       "      <td>OUT013</td>\n",
       "      <td>1987</td>\n",
       "      <td>High</td>\n",
       "      <td>Tier 3</td>\n",
       "      <td>...</td>\n",
       "      <td>2040.8614</td>\n",
       "      <td>8.930000</td>\n",
       "      <td>1987.000000</td>\n",
       "      <td>1995.93</td>\n",
       "      <td>0.000000</td>\n",
       "      <td>480.982302</td>\n",
       "      <td>107022.6018</td>\n",
       "      <td>0.000000</td>\n",
       "      <td>0.000000</td>\n",
       "      <td>17743.91</td>\n",
       "    </tr>\n",
       "  </tbody>\n",
       "</table>\n",
       "<p>5 rows × 23 columns</p>\n",
       "</div>"
      ],
      "text/plain": [
       "      Item_Identifier  Item_Weight Item_Fat_Content  Item_Visibility  \\\n",
       "index                                                                  \n",
       "0               FDA15         9.30          Low Fat         0.016047   \n",
       "1               DRC01         5.92          Regular         0.019278   \n",
       "2               FDN15        17.50          Low Fat         0.016760   \n",
       "3               FDX07        19.20          Regular         0.000000   \n",
       "4               NCD19         8.93          Low Fat         0.000000   \n",
       "\n",
       "                   Item_Type  Item_MRP Outlet_Identifier  \\\n",
       "index                                                      \n",
       "0                      Dairy  249.8092            OUT049   \n",
       "1                Soft Drinks   48.2692            OUT018   \n",
       "2                       Meat  141.6180            OUT049   \n",
       "3      Fruits and Vegetables  182.0950            OUT010   \n",
       "4                  Household   53.8614            OUT013   \n",
       "\n",
       "       Outlet_Establishment_Year Outlet_Size Outlet_Location_Type  ...  \\\n",
       "index                                                              ...   \n",
       "0                           1999      Medium               Tier 1  ...   \n",
       "1                           2009      Medium               Tier 3  ...   \n",
       "2                           1999      Medium               Tier 1  ...   \n",
       "3                           1998         NaN               Tier 3  ...   \n",
       "4                           1987        High               Tier 3  ...   \n",
       "\n",
       "      Item_MRP + Outlet_Establishment_Year  Item_Visibility + Item_Weight  \\\n",
       "index                                                                       \n",
       "0                                2248.8092                       9.316047   \n",
       "1                                2057.2692                       5.939278   \n",
       "2                                2140.6180                      17.516760   \n",
       "3                                2180.0950                      19.200000   \n",
       "4                                2040.8614                       8.930000   \n",
       "\n",
       "       Item_Visibility + Outlet_Establishment_Year  \\\n",
       "index                                                \n",
       "0                                      1999.016047   \n",
       "1                                      2009.019278   \n",
       "2                                      1999.016760   \n",
       "3                                      1998.000000   \n",
       "4                                      1987.000000   \n",
       "\n",
       "       Item_Weight + Outlet_Establishment_Year  Item_MRP * Item_Visibility  \\\n",
       "index                                                                        \n",
       "0                                      2008.30                    4.008763   \n",
       "1                                      2014.92                    0.930544   \n",
       "2                                      2016.50                    2.373528   \n",
       "3                                      2017.20                    0.000000   \n",
       "4                                      1995.93                    0.000000   \n",
       "\n",
       "       Item_MRP * Item_Weight  Item_MRP * Outlet_Establishment_Year  \\\n",
       "index                                                                 \n",
       "0                 2323.225560                           499368.5908   \n",
       "1                  285.753664                            96972.8228   \n",
       "2                 2478.315000                           283094.3820   \n",
       "3                 3496.224000                           363825.8100   \n",
       "4                  480.982302                           107022.6018   \n",
       "\n",
       "       Item_Visibility * Item_Weight  \\\n",
       "index                                  \n",
       "0                           0.149240   \n",
       "1                           0.114127   \n",
       "2                           0.293301   \n",
       "3                           0.000000   \n",
       "4                           0.000000   \n",
       "\n",
       "       Item_Visibility * Outlet_Establishment_Year  \\\n",
       "index                                                \n",
       "0                                        32.078555   \n",
       "1                                        38.729936   \n",
       "2                                        33.503390   \n",
       "3                                         0.000000   \n",
       "4                                         0.000000   \n",
       "\n",
       "       Item_Weight * Outlet_Establishment_Year  \n",
       "index                                           \n",
       "0                                     18590.70  \n",
       "1                                     11893.28  \n",
       "2                                     34982.50  \n",
       "3                                     38361.60  \n",
       "4                                     17743.91  \n",
       "\n",
       "[5 rows x 23 columns]"
      ]
     },
     "execution_count": 54,
     "metadata": {},
     "output_type": "execute_result"
    }
   ],
   "source": [
    "# Run deep feature synthesis with transformation primitives\n",
    "feature_matrix, feature_defs = ft.dfs(entityset = es, target_entity = 'data_1', max_depth=2,\n",
    "                                      trans_primitives = ['add_numeric', 'multiply_numeric'])\n",
    "\n",
    "feature_matrix.head()"
   ]
  },
  {
   "cell_type": "code",
   "execution_count": 55,
   "id": "322cf15c",
   "metadata": {},
   "outputs": [
    {
     "data": {
      "text/plain": [
       "[<Feature: Item_Identifier>,\n",
       " <Feature: Item_Weight>,\n",
       " <Feature: Item_Fat_Content>,\n",
       " <Feature: Item_Visibility>,\n",
       " <Feature: Item_Type>,\n",
       " <Feature: Item_MRP>,\n",
       " <Feature: Outlet_Identifier>,\n",
       " <Feature: Outlet_Establishment_Year>,\n",
       " <Feature: Outlet_Size>,\n",
       " <Feature: Outlet_Location_Type>,\n",
       " <Feature: Outlet_Type>,\n",
       " <Feature: Item_MRP + Item_Visibility>,\n",
       " <Feature: Item_MRP + Item_Weight>,\n",
       " <Feature: Item_MRP + Outlet_Establishment_Year>,\n",
       " <Feature: Item_Visibility + Item_Weight>,\n",
       " <Feature: Item_Visibility + Outlet_Establishment_Year>,\n",
       " <Feature: Item_Weight + Outlet_Establishment_Year>,\n",
       " <Feature: Item_MRP * Item_Visibility>,\n",
       " <Feature: Item_MRP * Item_Weight>,\n",
       " <Feature: Item_MRP * Outlet_Establishment_Year>,\n",
       " <Feature: Item_Visibility * Item_Weight>,\n",
       " <Feature: Item_Visibility * Outlet_Establishment_Year>,\n",
       " <Feature: Item_Weight * Outlet_Establishment_Year>]"
      ]
     },
     "execution_count": 55,
     "metadata": {},
     "output_type": "execute_result"
    }
   ],
   "source": [
    "feature_defs"
   ]
  },
  {
   "cell_type": "code",
   "execution_count": null,
   "id": "e5234247",
   "metadata": {},
   "outputs": [],
   "source": []
  },
  {
   "cell_type": "markdown",
   "id": "97373764",
   "metadata": {},
   "source": [
    "# 10. DATETIME FEATURES"
   ]
  },
  {
   "cell_type": "code",
   "execution_count": 56,
   "id": "a227db36",
   "metadata": {},
   "outputs": [
    {
     "data": {
      "text/html": [
       "<div>\n",
       "<style scoped>\n",
       "    .dataframe tbody tr th:only-of-type {\n",
       "        vertical-align: middle;\n",
       "    }\n",
       "\n",
       "    .dataframe tbody tr th {\n",
       "        vertical-align: top;\n",
       "    }\n",
       "\n",
       "    .dataframe thead th {\n",
       "        text-align: right;\n",
       "    }\n",
       "</style>\n",
       "<table border=\"1\" class=\"dataframe\">\n",
       "  <thead>\n",
       "    <tr style=\"text-align: right;\">\n",
       "      <th></th>\n",
       "      <th>Date_Time</th>\n",
       "      <th>NO2(GT)</th>\n",
       "    </tr>\n",
       "  </thead>\n",
       "  <tbody>\n",
       "    <tr>\n",
       "      <th>0</th>\n",
       "      <td>10/03/2004 18.00.00</td>\n",
       "      <td>166</td>\n",
       "    </tr>\n",
       "    <tr>\n",
       "      <th>1</th>\n",
       "      <td>10/03/2004 19.00.00</td>\n",
       "      <td>1174</td>\n",
       "    </tr>\n",
       "    <tr>\n",
       "      <th>2</th>\n",
       "      <td>10/03/2004 20.00.00</td>\n",
       "      <td>131</td>\n",
       "    </tr>\n",
       "    <tr>\n",
       "      <th>3</th>\n",
       "      <td>10/03/2004 21.00.00</td>\n",
       "      <td>172</td>\n",
       "    </tr>\n",
       "    <tr>\n",
       "      <th>4</th>\n",
       "      <td>10/03/2004 22.00.00</td>\n",
       "      <td>131</td>\n",
       "    </tr>\n",
       "  </tbody>\n",
       "</table>\n",
       "</div>"
      ],
      "text/plain": [
       "             Date_Time  NO2(GT)\n",
       "0  10/03/2004 18.00.00      166\n",
       "1  10/03/2004 19.00.00     1174\n",
       "2  10/03/2004 20.00.00      131\n",
       "3  10/03/2004 21.00.00      172\n",
       "4  10/03/2004 22.00.00      131"
      ]
     },
     "execution_count": 56,
     "metadata": {},
     "output_type": "execute_result"
    }
   ],
   "source": [
    "df = pd.read_csv('No2 dataset.csv')\n",
    "df.head()"
   ]
  },
  {
   "cell_type": "code",
   "execution_count": 57,
   "id": "e7c886a7",
   "metadata": {},
   "outputs": [
    {
     "data": {
      "text/plain": [
       "('31/08/2004 23.00.00', '01/04/2004 00.00.00')"
      ]
     },
     "execution_count": 57,
     "metadata": {},
     "output_type": "execute_result"
    }
   ],
   "source": [
    "df['Date_Time'].max(), df['Date_Time'].min()"
   ]
  },
  {
   "cell_type": "code",
   "execution_count": 58,
   "id": "f739cf24",
   "metadata": {},
   "outputs": [
    {
     "data": {
      "text/plain": [
       "Date_Time    object\n",
       "NO2(GT)       int64\n",
       "dtype: object"
      ]
     },
     "execution_count": 58,
     "metadata": {},
     "output_type": "execute_result"
    }
   ],
   "source": [
    "df.dtypes"
   ]
  },
  {
   "cell_type": "markdown",
   "id": "f11e1203",
   "metadata": {},
   "source": [
    "##### Convert to datetime"
   ]
  },
  {
   "cell_type": "code",
   "execution_count": 59,
   "id": "611996ec",
   "metadata": {},
   "outputs": [
    {
     "data": {
      "text/plain": [
       "Date_Time    datetime64[ns]\n",
       "NO2(GT)               int64\n",
       "dtype: object"
      ]
     },
     "execution_count": 59,
     "metadata": {},
     "output_type": "execute_result"
    }
   ],
   "source": [
    "df['Date_Time'] = pd.to_datetime(df['Date_Time'], format= '%d/%m/%Y %H.%M.%S')\n",
    "df.dtypes"
   ]
  },
  {
   "cell_type": "markdown",
   "id": "a7f7c2cc",
   "metadata": {},
   "source": [
    "The format depends on your data. Here are a few examples\n",
    "1.1/12/2001: %d/%m/%Y\n",
    "2.2001/12/1: %Y/%m/%d\n",
    "3.2001-12-01: %Y-%m-%d\n",
    "4.2001-12-01 09:00: %Y-%m-%d %H:%M"
   ]
  },
  {
   "cell_type": "code",
   "execution_count": 60,
   "id": "39876b63",
   "metadata": {},
   "outputs": [
    {
     "data": {
      "text/plain": [
       "(Timestamp('2004-09-24 02:00:00'), Timestamp('2004-03-10 18:00:00'))"
      ]
     },
     "execution_count": 60,
     "metadata": {},
     "output_type": "execute_result"
    }
   ],
   "source": [
    "df['Date_Time'].max(), df['Date_Time'].min()"
   ]
  },
  {
   "cell_type": "markdown",
   "id": "44b19719",
   "metadata": {},
   "source": [
    "##### Extract hour and minute"
   ]
  },
  {
   "cell_type": "code",
   "execution_count": 61,
   "id": "6e901a4b",
   "metadata": {},
   "outputs": [
    {
     "data": {
      "text/plain": [
       "0    18\n",
       "1    19\n",
       "2    20\n",
       "3    21\n",
       "4    22\n",
       "Name: Date_Time, dtype: int64"
      ]
     },
     "execution_count": 61,
     "metadata": {},
     "output_type": "execute_result"
    }
   ],
   "source": [
    "df['Date_Time'].dt.hour.head()"
   ]
  },
  {
   "cell_type": "code",
   "execution_count": 62,
   "id": "60ff2e7b",
   "metadata": {},
   "outputs": [
    {
     "data": {
      "text/plain": [
       "0    0\n",
       "1    0\n",
       "2    0\n",
       "3    0\n",
       "4    0\n",
       "Name: Date_Time, dtype: int64"
      ]
     },
     "execution_count": 62,
     "metadata": {},
     "output_type": "execute_result"
    }
   ],
   "source": [
    "df['Date_Time'].dt.minute.head()"
   ]
  },
  {
   "cell_type": "markdown",
   "id": "072c2cdd",
   "metadata": {},
   "source": [
    "##### The day of week - Monday (0) to Sunday (6)"
   ]
  },
  {
   "cell_type": "code",
   "execution_count": 63,
   "id": "03593b66",
   "metadata": {},
   "outputs": [
    {
     "data": {
      "text/plain": [
       "0    2\n",
       "1    2\n",
       "2    2\n",
       "3    2\n",
       "4    2\n",
       "5    2\n",
       "6    3\n",
       "Name: Date_Time, dtype: int64"
      ]
     },
     "execution_count": 63,
     "metadata": {},
     "output_type": "execute_result"
    }
   ],
   "source": [
    "df['Date_Time'].dt.dayofweek.head(7) "
   ]
  },
  {
   "cell_type": "code",
   "execution_count": 65,
   "id": "2e193f99",
   "metadata": {},
   "outputs": [
    {
     "ename": "AttributeError",
     "evalue": "'DatetimeProperties' object has no attribute 'weekday_name'",
     "output_type": "error",
     "traceback": [
      "\u001b[1;31m---------------------------------------------------------------------------\u001b[0m",
      "\u001b[1;31mAttributeError\u001b[0m                            Traceback (most recent call last)",
      "\u001b[1;32m<ipython-input-65-99e2508d11be>\u001b[0m in \u001b[0;36m<module>\u001b[1;34m\u001b[0m\n\u001b[1;32m----> 1\u001b[1;33m \u001b[0mdf\u001b[0m\u001b[1;33m[\u001b[0m\u001b[1;34m'Date_Time'\u001b[0m\u001b[1;33m]\u001b[0m\u001b[1;33m.\u001b[0m\u001b[0mdt\u001b[0m\u001b[1;33m.\u001b[0m\u001b[0mweekday_name\u001b[0m\u001b[1;33m.\u001b[0m\u001b[0mhead\u001b[0m\u001b[1;33m(\u001b[0m\u001b[1;36m7\u001b[0m\u001b[1;33m)\u001b[0m\u001b[1;33m\u001b[0m\u001b[1;33m\u001b[0m\u001b[0m\n\u001b[0m",
      "\u001b[1;31mAttributeError\u001b[0m: 'DatetimeProperties' object has no attribute 'weekday_name'"
     ]
    }
   ],
   "source": [
    "df['Date_Time'].dt.weekday_name.head(7)"
   ]
  },
  {
   "cell_type": "markdown",
   "id": "b380d04b",
   "metadata": {},
   "source": [
    "##### Extracting the month from the date"
   ]
  },
  {
   "cell_type": "code",
   "execution_count": 66,
   "id": "44a66c8d",
   "metadata": {},
   "outputs": [
    {
     "data": {
      "text/plain": [
       "0    3\n",
       "1    3\n",
       "2    3\n",
       "3    3\n",
       "4    3\n",
       "5    3\n",
       "6    3\n",
       "Name: Date_Time, dtype: int64"
      ]
     },
     "execution_count": 66,
     "metadata": {},
     "output_type": "execute_result"
    }
   ],
   "source": [
    "df['Date_Time'].dt.month.head(7)"
   ]
  },
  {
   "cell_type": "code",
   "execution_count": 67,
   "id": "ad01f308",
   "metadata": {},
   "outputs": [
    {
     "data": {
      "text/plain": [
       "0    False\n",
       "1    False\n",
       "2    False\n",
       "3    False\n",
       "4    False\n",
       "5    False\n",
       "6    False\n",
       "Name: Date_Time, dtype: bool"
      ]
     },
     "execution_count": 67,
     "metadata": {},
     "output_type": "execute_result"
    }
   ],
   "source": [
    "df['Date_Time'].dt.is_month_end.head(7)"
   ]
  },
  {
   "cell_type": "code",
   "execution_count": 68,
   "id": "79af130b",
   "metadata": {},
   "outputs": [
    {
     "ename": "AttributeError",
     "evalue": "'DatetimeProperties' object has no attribute 'weekday_name'",
     "output_type": "error",
     "traceback": [
      "\u001b[1;31m---------------------------------------------------------------------------\u001b[0m",
      "\u001b[1;31mAttributeError\u001b[0m                            Traceback (most recent call last)",
      "\u001b[1;32m<ipython-input-68-6796e3a3bfd5>\u001b[0m in \u001b[0;36m<module>\u001b[1;34m\u001b[0m\n\u001b[0;32m      7\u001b[0m               \u001b[1;34m\"week\"\u001b[0m\u001b[1;33m:\u001b[0m \u001b[0mdf\u001b[0m\u001b[1;33m[\u001b[0m\u001b[1;34m'Date_Time'\u001b[0m\u001b[1;33m]\u001b[0m\u001b[1;33m.\u001b[0m\u001b[0mdt\u001b[0m\u001b[1;33m.\u001b[0m\u001b[0mweek\u001b[0m\u001b[1;33m,\u001b[0m\u001b[1;33m\u001b[0m\u001b[1;33m\u001b[0m\u001b[0m\n\u001b[0;32m      8\u001b[0m               \u001b[1;34m\"dayofweek\"\u001b[0m\u001b[1;33m:\u001b[0m \u001b[0mdf\u001b[0m\u001b[1;33m[\u001b[0m\u001b[1;34m'Date_Time'\u001b[0m\u001b[1;33m]\u001b[0m\u001b[1;33m.\u001b[0m\u001b[0mdt\u001b[0m\u001b[1;33m.\u001b[0m\u001b[0mdayofweek\u001b[0m\u001b[1;33m,\u001b[0m\u001b[1;33m\u001b[0m\u001b[1;33m\u001b[0m\u001b[0m\n\u001b[1;32m----> 9\u001b[1;33m               \u001b[1;34m\"dayofweekname\"\u001b[0m\u001b[1;33m:\u001b[0m \u001b[0mdf\u001b[0m\u001b[1;33m[\u001b[0m\u001b[1;34m'Date_Time'\u001b[0m\u001b[1;33m]\u001b[0m\u001b[1;33m.\u001b[0m\u001b[0mdt\u001b[0m\u001b[1;33m.\u001b[0m\u001b[0mweekday_name\u001b[0m\u001b[1;33m,\u001b[0m\u001b[1;33m\u001b[0m\u001b[1;33m\u001b[0m\u001b[0m\n\u001b[0m\u001b[0;32m     10\u001b[0m               \u001b[1;34m\"quarter\"\u001b[0m\u001b[1;33m:\u001b[0m \u001b[0mdf\u001b[0m\u001b[1;33m[\u001b[0m\u001b[1;34m'Date_Time'\u001b[0m\u001b[1;33m]\u001b[0m\u001b[1;33m.\u001b[0m\u001b[0mdt\u001b[0m\u001b[1;33m.\u001b[0m\u001b[0mquarter\u001b[0m\u001b[1;33m,\u001b[0m\u001b[1;33m\u001b[0m\u001b[1;33m\u001b[0m\u001b[0m\n\u001b[0;32m     11\u001b[0m              })\n",
      "\u001b[1;31mAttributeError\u001b[0m: 'DatetimeProperties' object has no attribute 'weekday_name'"
     ]
    }
   ],
   "source": [
    "#Put it all together\n",
    "new_df = pd.DataFrame({\"year\": df['Date_Time'].dt.year,\n",
    "              \"month\": df['Date_Time'].dt.month,\n",
    "              \"day\": df['Date_Time'].dt.day,\n",
    "              \"hour\": df['Date_Time'].dt.hour,\n",
    "              \"dayofyear\": df['Date_Time'].dt.dayofyear,\n",
    "              \"week\": df['Date_Time'].dt.week,\n",
    "              \"dayofweek\": df['Date_Time'].dt.dayofweek,\n",
    "              \"dayofweekname\": df['Date_Time'].dt.weekday_name,\n",
    "              \"quarter\": df['Date_Time'].dt.quarter,\n",
    "             })\n",
    "new_df.head()"
   ]
  },
  {
   "cell_type": "code",
   "execution_count": 70,
   "id": "07fb131b",
   "metadata": {},
   "outputs": [
    {
     "ename": "NameError",
     "evalue": "name 'new_df' is not defined",
     "output_type": "error",
     "traceback": [
      "\u001b[1;31m---------------------------------------------------------------------------\u001b[0m",
      "\u001b[1;31mNameError\u001b[0m                                 Traceback (most recent call last)",
      "\u001b[1;32m<ipython-input-70-fb1189e65a8d>\u001b[0m in \u001b[0;36m<module>\u001b[1;34m\u001b[0m\n\u001b[1;32m----> 1\u001b[1;33m \u001b[0mcomplete_data\u001b[0m \u001b[1;33m=\u001b[0m \u001b[0mpd\u001b[0m\u001b[1;33m.\u001b[0m\u001b[0mconcat\u001b[0m\u001b[1;33m(\u001b[0m\u001b[1;33m[\u001b[0m\u001b[0mdf\u001b[0m\u001b[1;33m,\u001b[0m \u001b[0mnew_df\u001b[0m\u001b[1;33m]\u001b[0m\u001b[1;33m,\u001b[0m \u001b[0maxis\u001b[0m\u001b[1;33m=\u001b[0m\u001b[1;36m1\u001b[0m\u001b[1;33m)\u001b[0m\u001b[1;33m\u001b[0m\u001b[1;33m\u001b[0m\u001b[0m\n\u001b[0m\u001b[0;32m      2\u001b[0m \u001b[0mcomplete_data\u001b[0m\u001b[1;33m.\u001b[0m\u001b[0mhead\u001b[0m\u001b[1;33m(\u001b[0m\u001b[1;33m)\u001b[0m\u001b[1;33m\u001b[0m\u001b[1;33m\u001b[0m\u001b[0m\n",
      "\u001b[1;31mNameError\u001b[0m: name 'new_df' is not defined"
     ]
    }
   ],
   "source": [
    "complete_data = pd.concat([df, new_df], axis=1)\n",
    "complete_data.head()"
   ]
  },
  {
   "cell_type": "markdown",
   "id": "51c227c7",
   "metadata": {},
   "source": [
    "##### is_weekday? (Create using the dayofweek numbers)"
   ]
  },
  {
   "cell_type": "code",
   "execution_count": 69,
   "id": "75f48bf3",
   "metadata": {},
   "outputs": [
    {
     "ename": "NameError",
     "evalue": "name 'complete_data' is not defined",
     "output_type": "error",
     "traceback": [
      "\u001b[1;31m---------------------------------------------------------------------------\u001b[0m",
      "\u001b[1;31mNameError\u001b[0m                                 Traceback (most recent call last)",
      "\u001b[1;32m<ipython-input-69-be9b1a842c20>\u001b[0m in \u001b[0;36m<module>\u001b[1;34m\u001b[0m\n\u001b[1;32m----> 1\u001b[1;33m \u001b[0mcomplete_data\u001b[0m\u001b[1;33m[\u001b[0m\u001b[1;34m'is_weekday'\u001b[0m\u001b[1;33m]\u001b[0m\u001b[1;33m=\u001b[0m\u001b[1;36m0\u001b[0m\u001b[1;33m\u001b[0m\u001b[1;33m\u001b[0m\u001b[0m\n\u001b[0m\u001b[0;32m      2\u001b[0m \u001b[1;33m\u001b[0m\u001b[0m\n\u001b[0;32m      3\u001b[0m \u001b[1;32mfor\u001b[0m \u001b[0mi\u001b[0m \u001b[1;32min\u001b[0m \u001b[0mrange\u001b[0m\u001b[1;33m(\u001b[0m\u001b[1;36m0\u001b[0m\u001b[1;33m,\u001b[0m \u001b[0mlen\u001b[0m\u001b[1;33m(\u001b[0m\u001b[0mcomplete_data\u001b[0m\u001b[1;33m)\u001b[0m\u001b[1;33m)\u001b[0m\u001b[1;33m:\u001b[0m\u001b[1;33m\u001b[0m\u001b[1;33m\u001b[0m\u001b[0m\n\u001b[0;32m      4\u001b[0m     \u001b[1;32mif\u001b[0m \u001b[1;33m(\u001b[0m\u001b[1;33m(\u001b[0m\u001b[0mcomplete_data\u001b[0m\u001b[1;33m[\u001b[0m\u001b[1;34m'dayofweek'\u001b[0m\u001b[1;33m]\u001b[0m\u001b[1;33m[\u001b[0m\u001b[0mi\u001b[0m\u001b[1;33m]\u001b[0m \u001b[1;33m==\u001b[0m \u001b[1;36m5\u001b[0m\u001b[1;33m)\u001b[0m \u001b[1;33m|\u001b[0m \u001b[1;33m(\u001b[0m\u001b[0mcomplete_data\u001b[0m\u001b[1;33m[\u001b[0m\u001b[1;34m'dayofweek'\u001b[0m\u001b[1;33m]\u001b[0m\u001b[1;33m[\u001b[0m\u001b[0mi\u001b[0m\u001b[1;33m]\u001b[0m \u001b[1;33m==\u001b[0m \u001b[1;36m6\u001b[0m\u001b[1;33m)\u001b[0m\u001b[1;33m)\u001b[0m\u001b[1;33m:\u001b[0m\u001b[1;33m\u001b[0m\u001b[1;33m\u001b[0m\u001b[0m\n\u001b[0;32m      5\u001b[0m         \u001b[0mcomplete_data\u001b[0m\u001b[1;33m[\u001b[0m\u001b[1;34m'is_weekday'\u001b[0m\u001b[1;33m]\u001b[0m\u001b[1;33m[\u001b[0m\u001b[0mi\u001b[0m\u001b[1;33m]\u001b[0m \u001b[1;33m=\u001b[0m \u001b[1;36m0\u001b[0m\u001b[1;33m\u001b[0m\u001b[1;33m\u001b[0m\u001b[0m\n",
      "\u001b[1;31mNameError\u001b[0m: name 'complete_data' is not defined"
     ]
    }
   ],
   "source": [
    "complete_data['is_weekday']=0 \n",
    "\n",
    "for i in range(0, len(complete_data)):\n",
    "    if ((complete_data['dayofweek'][i] == 5) | (complete_data['dayofweek'][i] == 6)):\n",
    "        complete_data['is_weekday'][i] = 0\n",
    "    else: \n",
    "        complete_data['is_weekday'][i] = 1"
   ]
  },
  {
   "cell_type": "code",
   "execution_count": null,
   "id": "3a9d906d",
   "metadata": {},
   "outputs": [],
   "source": [
    "complete_data[['dayofweek', 'is_weekday']].head()"
   ]
  },
  {
   "cell_type": "markdown",
   "id": "b4226b40",
   "metadata": {},
   "source": [
    "##### Difference Between Dates"
   ]
  },
  {
   "cell_type": "code",
   "execution_count": null,
   "id": "efecf1e6",
   "metadata": {},
   "outputs": [],
   "source": [
    "agent = pd.read_csv('agent_classification.csv')\n",
    "agent.head()"
   ]
  },
  {
   "cell_type": "code",
   "execution_count": null,
   "id": "ad9a21a2",
   "metadata": {},
   "outputs": [],
   "source": [
    "agent[['Application_Receipt_Date','Applicant_BirthDate']].head()"
   ]
  },
  {
   "cell_type": "code",
   "execution_count": null,
   "id": "a9b4a436",
   "metadata": {},
   "outputs": [],
   "source": [
    "agent['Application_Receipt_Date'] = pd.to_datetime(agent['Application_Receipt_Date'], format='%m/%d/%Y')\n",
    "agent['Applicant_BirthDate'] = pd.to_datetime(agent['Applicant_BirthDate'], format='%m/%d/%Y')"
   ]
  },
  {
   "cell_type": "code",
   "execution_count": null,
   "id": "0acfb886",
   "metadata": {},
   "outputs": [],
   "source": [
    "(agent['Application_Receipt_Date'][0] - agent['Applicant_BirthDate'][0]).days"
   ]
  },
  {
   "cell_type": "code",
   "execution_count": null,
   "id": "998a3d16",
   "metadata": {},
   "outputs": [],
   "source": [
    "agent['Applicant_age'] = agent.apply(lambda x: (x['Application_Receipt_Date'] - x['Applicant_BirthDate']).days, axis=1)"
   ]
  },
  {
   "cell_type": "code",
   "execution_count": null,
   "id": "0d9ddc0e",
   "metadata": {},
   "outputs": [],
   "source": []
  },
  {
   "cell_type": "code",
   "execution_count": null,
   "id": "8866d7f8",
   "metadata": {},
   "outputs": [],
   "source": []
  }
 ],
 "metadata": {
  "kernelspec": {
   "display_name": "Python 3",
   "language": "python",
   "name": "python3"
  },
  "language_info": {
   "codemirror_mode": {
    "name": "ipython",
    "version": 3
   },
   "file_extension": ".py",
   "mimetype": "text/x-python",
   "name": "python",
   "nbconvert_exporter": "python",
   "pygments_lexer": "ipython3",
   "version": "3.8.8"
  }
 },
 "nbformat": 4,
 "nbformat_minor": 5
}
