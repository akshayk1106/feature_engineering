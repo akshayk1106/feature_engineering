{
 "cells": [
  {
   "cell_type": "markdown",
   "id": "114ac53e",
   "metadata": {},
   "source": [
    "# Count or frequency encoding\n",
    "High Cardinality\n",
    "<h4 style={'color=red'}>For handling categorical variable with MANY categories</h4>\n",
    "\n",
    "Another way to refer to variables that have a multitude of categories, is to call them variables with high cardinality.\n",
    "\n",
    "If we have categorical variables containing many multiple labels or high cardinality,then by using one hot encoding, we will expand the feature space dramatically.\n",
    "\n",
    "One approach that is heavily used in Kaggle competitions, is to replace each label of the categorical variable by the count, this is the amount of times each label appears in the dataset. Or the frequency, this is the percentage of observations within that category. The 2 are equivalent."
   ]
  },
  {
   "cell_type": "code",
   "execution_count": null,
   "id": "b3939fc4",
   "metadata": {},
   "outputs": [],
   "source": [
    "import pandas as pd\n",
    "import numpy as np\n",
    "#https://www.kaggle.com/aditya1702/mercedes-benz-data-exploration/data\n",
    "df = pd.read_csv(r'../../mercedesbenz.csv', usecols=['X1', 'X2'])\n",
    "df.head()"
   ]
  },
  {
   "cell_type": "code",
   "execution_count": null,
   "id": "209cb7be",
   "metadata": {},
   "outputs": [],
   "source": [
    "df.shape"
   ]
  },
  {
   "cell_type": "markdown",
   "id": "4b083450",
   "metadata": {},
   "source": [
    "### One hot Encoding"
   ]
  },
  {
   "cell_type": "code",
   "execution_count": null,
   "id": "9f2027a0",
   "metadata": {},
   "outputs": [],
   "source": [
    "pd.get_dummies(df).shape"
   ]
  },
  {
   "cell_type": "code",
   "execution_count": null,
   "id": "a3662d11",
   "metadata": {},
   "outputs": [],
   "source": [
    "len(df['X1'].unique())"
   ]
  },
  {
   "cell_type": "code",
   "execution_count": null,
   "id": "47c5a629",
   "metadata": {},
   "outputs": [],
   "source": [
    "len(df['X2'].unique())"
   ]
  },
  {
   "cell_type": "code",
   "execution_count": null,
   "id": "84f956bb",
   "metadata": {},
   "outputs": [],
   "source": [
    "# let's have a look at how many labels\n",
    "\n",
    "for col in df.columns[0:]:\n",
    "    print(col, ': ', len(df[col].unique()), ' labels')"
   ]
  },
  {
   "cell_type": "code",
   "execution_count": null,
   "id": "b2d6963f",
   "metadata": {},
   "outputs": [],
   "source": [
    "# let's obtain the counts for each one of the labels in variable X2\n",
    "# let's capture this in a dictionary that we can use to re-map the labels\n",
    "\n",
    "df.X2.value_counts().to_dict()"
   ]
  },
  {
   "cell_type": "code",
   "execution_count": null,
   "id": "f35d69e5",
   "metadata": {},
   "outputs": [],
   "source": [
    "# And now let's replace each label in X2 by its count\n",
    "\n",
    "# first we make a dictionary that maps each label to the counts\n",
    "df_frequency_map = df.X2.value_counts().to_dict()"
   ]
  },
  {
   "cell_type": "code",
   "execution_count": null,
   "id": "7cc8ed7f",
   "metadata": {},
   "outputs": [],
   "source": [
    "df.head(20)"
   ]
  },
  {
   "cell_type": "code",
   "execution_count": null,
   "id": "e8b39295",
   "metadata": {},
   "outputs": [],
   "source": [
    "# and now we replace X2 labels in the dataset df\n",
    "df.X2 = df.X2.map(df_frequency_map)\n",
    "\n",
    "df.head()"
   ]
  },
  {
   "cell_type": "markdown",
   "id": "52178dcf",
   "metadata": {},
   "source": [
    "Advantages\n",
    "\n",
    "    It is very simple to implement\n",
    "    Does not increase the feature dimensional space\n",
    "\n",
    "Disadvantages\n",
    "\n",
    "    If some of the labels have the same count, then they will be replaced with the same count and they will loose some valuable information.\n",
    "    2 Adds somewhat arbitrary numbers, and therefore weights to the different labels, that may not be related to their predictive power"
   ]
  },
  {
   "cell_type": "code",
   "execution_count": null,
   "id": "5a5d1771",
   "metadata": {},
   "outputs": [],
   "source": []
  },
  {
   "cell_type": "code",
   "execution_count": null,
   "id": "9aaae3be",
   "metadata": {},
   "outputs": [],
   "source": []
  },
  {
   "cell_type": "code",
   "execution_count": null,
   "id": "a4736ac3",
   "metadata": {},
   "outputs": [],
   "source": []
  },
  {
   "cell_type": "code",
   "execution_count": null,
   "id": "bb30e0cb",
   "metadata": {},
   "outputs": [],
   "source": []
  }
 ],
 "metadata": {
  "kernelspec": {
   "display_name": "Python 3",
   "language": "python",
   "name": "python3"
  },
  "language_info": {
   "codemirror_mode": {
    "name": "ipython",
    "version": 3
   },
   "file_extension": ".py",
   "mimetype": "text/x-python",
   "name": "python",
   "nbconvert_exporter": "python",
   "pygments_lexer": "ipython3",
   "version": "3.8.8"
  }
 },
 "nbformat": 4,
 "nbformat_minor": 5
}
